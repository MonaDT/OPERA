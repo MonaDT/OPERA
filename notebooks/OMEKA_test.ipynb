{
 "cells": [
  {
   "attachments": {},
   "cell_type": "markdown",
   "metadata": {},
   "source": [
    "# Omeka dataset reset (unexplode)"
   ]
  },
  {
   "attachments": {},
   "cell_type": "markdown",
   "metadata": {},
   "source": [
    "Load dataset with all metadata and pre-processing steps."
   ]
  },
  {
   "cell_type": "code",
   "execution_count": 67,
   "metadata": {},
   "outputs": [],
   "source": [
    "import pandas as pd\n",
    "import matplotlib.pyplot as plt\n",
    "import numpy as np\n",
    "import seaborn as sns\n",
    "import numpy as np\n",
    "df = pd.read_csv(\"../Materials/KVO_META.csv\", encoding='Latin-1', index_col=False)\n",
    "df['Genre'] = df['genre'].str.lower()\n",
    "sns.set_palette(\"Set2\")"
   ]
  },
  {
   "cell_type": "code",
   "execution_count": 68,
   "metadata": {},
   "outputs": [],
   "source": [
    "#remove all trailing and leading whitespaces.\n",
    "for column in df.columns:\n",
    "    try:\n",
    "        df[column] = df[column].str.strip()\n",
    "    except AttributeError:\n",
    "        continue\n",
    "\n",
    "for column in df.columns:\n",
    "    df[column] = df[column].astype(str)"
   ]
  },
  {
   "cell_type": "code",
   "execution_count": 69,
   "metadata": {},
   "outputs": [],
   "source": [
    "#convert the date column to datetime.\n",
    "df['Date'] = pd.to_datetime(df['Date'], dayfirst=True, errors='coerce')"
   ]
  },
  {
   "cell_type": "code",
   "execution_count": 70,
   "metadata": {},
   "outputs": [],
   "source": [
    "df.drop(columns=['Occasion', 'Multiple bill', 'Production', 'Original title', 'Composer', 'Original premiere', 'genre', 'Season', 'Directors', 'Genre'], inplace=True)\n"
   ]
  },
  {
   "cell_type": "code",
   "execution_count": 71,
   "metadata": {},
   "outputs": [],
   "source": [
    "df.head()\n",
    "old_len = len(df)"
   ]
  },
  {
   "cell_type": "code",
   "execution_count": 72,
   "metadata": {},
   "outputs": [
    {
     "data": {
      "text/html": [
       "<div>\n",
       "<style scoped>\n",
       "    .dataframe tbody tr th:only-of-type {\n",
       "        vertical-align: middle;\n",
       "    }\n",
       "\n",
       "    .dataframe tbody tr th {\n",
       "        vertical-align: top;\n",
       "    }\n",
       "\n",
       "    .dataframe thead th {\n",
       "        text-align: right;\n",
       "    }\n",
       "</style>\n",
       "<table border=\"1\" class=\"dataframe\">\n",
       "  <thead>\n",
       "    <tr style=\"text-align: right;\">\n",
       "      <th></th>\n",
       "      <th>Image</th>\n",
       "      <th>Collection</th>\n",
       "      <th>Date</th>\n",
       "      <th>Performances_ID</th>\n",
       "      <th>Normalised title</th>\n",
       "      <th>Original language</th>\n",
       "    </tr>\n",
       "  </thead>\n",
       "  <tbody>\n",
       "    <tr>\n",
       "      <th>4436</th>\n",
       "      <td>1933-1934_00310-20220210_150111.jpg</td>\n",
       "      <td>1933-1934</td>\n",
       "      <td>1934-04-14</td>\n",
       "      <td>803397</td>\n",
       "      <td>Parsifal</td>\n",
       "      <td>DUI</td>\n",
       "    </tr>\n",
       "    <tr>\n",
       "      <th>4437</th>\n",
       "      <td>1933-1934_00312-20220210_150129.jpg</td>\n",
       "      <td>1933-1934</td>\n",
       "      <td>1934-04-15</td>\n",
       "      <td>891867</td>\n",
       "      <td>Madame Butterfly</td>\n",
       "      <td>ITA</td>\n",
       "    </tr>\n",
       "    <tr>\n",
       "      <th>4438</th>\n",
       "      <td>1933-1934_00314-20220210_150148.jpg</td>\n",
       "      <td>1933-1934</td>\n",
       "      <td>1934-04-15</td>\n",
       "      <td>647299</td>\n",
       "      <td>Driemeisjeshuis</td>\n",
       "      <td>DUI</td>\n",
       "    </tr>\n",
       "    <tr>\n",
       "      <th>4439</th>\n",
       "      <td>1933-1934_00314-20220210_150148.jpg</td>\n",
       "      <td>1933-1934</td>\n",
       "      <td>1934-04-15</td>\n",
       "      <td>647299</td>\n",
       "      <td>Mister Wu</td>\n",
       "      <td>DUI</td>\n",
       "    </tr>\n",
       "    <tr>\n",
       "      <th>4440</th>\n",
       "      <td>1933-1934_00314-20220210_150148.jpg</td>\n",
       "      <td>1933-1934</td>\n",
       "      <td>1934-04-15</td>\n",
       "      <td>647299</td>\n",
       "      <td>Paganini</td>\n",
       "      <td>DUI</td>\n",
       "    </tr>\n",
       "  </tbody>\n",
       "</table>\n",
       "</div>"
      ],
      "text/plain": [
       "                                    Image Collection       Date  \\\n",
       "4436  1933-1934_00310-20220210_150111.jpg  1933-1934 1934-04-14   \n",
       "4437  1933-1934_00312-20220210_150129.jpg  1933-1934 1934-04-15   \n",
       "4438  1933-1934_00314-20220210_150148.jpg  1933-1934 1934-04-15   \n",
       "4439  1933-1934_00314-20220210_150148.jpg  1933-1934 1934-04-15   \n",
       "4440  1933-1934_00314-20220210_150148.jpg  1933-1934 1934-04-15   \n",
       "\n",
       "     Performances_ID  Normalised title Original language  \n",
       "4436          803397          Parsifal               DUI  \n",
       "4437          891867  Madame Butterfly               ITA  \n",
       "4438          647299   Driemeisjeshuis               DUI  \n",
       "4439          647299         Mister Wu               DUI  \n",
       "4440          647299          Paganini               DUI  "
      ]
     },
     "execution_count": 72,
     "metadata": {},
     "output_type": "execute_result"
    }
   ],
   "source": [
    "df.tail(5)"
   ]
  },
  {
   "cell_type": "code",
   "execution_count": 73,
   "metadata": {},
   "outputs": [
    {
     "data": {
      "text/plain": [
       "Image                        object\n",
       "Collection                   object\n",
       "Date                 datetime64[ns]\n",
       "Performances_ID              object\n",
       "Normalised title             object\n",
       "Original language            object\n",
       "dtype: object"
      ]
     },
     "execution_count": 73,
     "metadata": {},
     "output_type": "execute_result"
    }
   ],
   "source": [
    "df.dtypes"
   ]
  },
  {
   "cell_type": "code",
   "execution_count": 74,
   "metadata": {},
   "outputs": [],
   "source": [
    "\n",
    "merged_df = df.groupby('Performances_ID', sort = False).agg({\n",
    "    'Image' : 'first',\n",
    "    'Collection': 'first',\n",
    "    'Normalised title': ' + '.join,\n",
    "    'Date': 'first',\n",
    "    'Original language': ' + '.join}).reset_index()\n",
    "\n"
   ]
  },
  {
   "cell_type": "code",
   "execution_count": 75,
   "metadata": {},
   "outputs": [
    {
     "data": {
      "text/plain": [
       "3919"
      ]
     },
     "execution_count": 75,
     "metadata": {},
     "output_type": "execute_result"
    }
   ],
   "source": [
    "merged_df = merged_df.sort_index()\n",
    "len(merged_df)"
   ]
  },
  {
   "cell_type": "code",
   "execution_count": 76,
   "metadata": {},
   "outputs": [],
   "source": [
    "merged_df['Date'] = merged_df['Date'].astype(str)"
   ]
  },
  {
   "cell_type": "code",
   "execution_count": 77,
   "metadata": {},
   "outputs": [],
   "source": [
    "df2 = merged_df.groupby('Image', sort = False).agg({\n",
    "    'Performances_ID' : 'first',\n",
    "    'Collection': 'first',\n",
    "    'Normalised title': ' ; '.join,\n",
    "    'Date': ' ; '.join,\n",
    "    'Original language': ' ; '.join}).reset_index()"
   ]
  },
  {
   "cell_type": "code",
   "execution_count": 78,
   "metadata": {},
   "outputs": [
    {
     "data": {
      "text/plain": [
       "True"
      ]
     },
     "execution_count": 78,
     "metadata": {},
     "output_type": "execute_result"
    }
   ],
   "source": [
    "len(df2['Image'].unique()) == len(df2)"
   ]
  },
  {
   "cell_type": "code",
   "execution_count": 79,
   "metadata": {},
   "outputs": [
    {
     "data": {
      "text/html": [
       "<div>\n",
       "<style scoped>\n",
       "    .dataframe tbody tr th:only-of-type {\n",
       "        vertical-align: middle;\n",
       "    }\n",
       "\n",
       "    .dataframe tbody tr th {\n",
       "        vertical-align: top;\n",
       "    }\n",
       "\n",
       "    .dataframe thead th {\n",
       "        text-align: right;\n",
       "    }\n",
       "</style>\n",
       "<table border=\"1\" class=\"dataframe\">\n",
       "  <thead>\n",
       "    <tr style=\"text-align: right;\">\n",
       "      <th></th>\n",
       "      <th>Image</th>\n",
       "      <th>Collection</th>\n",
       "      <th>Date</th>\n",
       "      <th>Performances_ID</th>\n",
       "      <th>Normalised title</th>\n",
       "      <th>Original language</th>\n",
       "      <th>Production</th>\n",
       "    </tr>\n",
       "  </thead>\n",
       "  <tbody>\n",
       "    <tr>\n",
       "      <th>0</th>\n",
       "      <td>K.V.O. programmas 1893-97_00005-20211201_11335...</td>\n",
       "      <td>1893-1897</td>\n",
       "      <td>1893-10-03</td>\n",
       "      <td>466791</td>\n",
       "      <td>De Vrijschutter</td>\n",
       "      <td>DUI</td>\n",
       "      <td>De Vrijschutter</td>\n",
       "    </tr>\n",
       "    <tr>\n",
       "      <th>1</th>\n",
       "      <td>K.V.O. programmas 1893-97_00009-20211201_11343...</td>\n",
       "      <td>1893-1897</td>\n",
       "      <td>1893-10-05</td>\n",
       "      <td>445919</td>\n",
       "      <td>Willem Tell</td>\n",
       "      <td>DUI</td>\n",
       "      <td>Willem Tell</td>\n",
       "    </tr>\n",
       "    <tr>\n",
       "      <th>2</th>\n",
       "      <td>K.V.O. programmas 1893-97_00011-20211201_11345...</td>\n",
       "      <td>1893-1897</td>\n",
       "      <td>1893-10-10</td>\n",
       "      <td>845496</td>\n",
       "      <td>De Vrijschutter</td>\n",
       "      <td>DUI</td>\n",
       "      <td>De Vrijschutter</td>\n",
       "    </tr>\n",
       "    <tr>\n",
       "      <th>3</th>\n",
       "      <td>K.V.O. programmas 1893-97_00013-20211201_11351...</td>\n",
       "      <td>1893-1897</td>\n",
       "      <td>1893-10-12</td>\n",
       "      <td>205093</td>\n",
       "      <td>Willem Tell</td>\n",
       "      <td>DUI</td>\n",
       "      <td>Willem Tell</td>\n",
       "    </tr>\n",
       "    <tr>\n",
       "      <th>4</th>\n",
       "      <td>K.V.O. programmas 1893-97_00015-20211201_11352...</td>\n",
       "      <td>1893-1897</td>\n",
       "      <td>1893-11-16</td>\n",
       "      <td>854224</td>\n",
       "      <td>Charlotte Corday</td>\n",
       "      <td>NL</td>\n",
       "      <td>Charlotte Corday</td>\n",
       "    </tr>\n",
       "  </tbody>\n",
       "</table>\n",
       "</div>"
      ],
      "text/plain": [
       "                                               Image Collection       Date  \\\n",
       "0  K.V.O. programmas 1893-97_00005-20211201_11335...  1893-1897 1893-10-03   \n",
       "1  K.V.O. programmas 1893-97_00009-20211201_11343...  1893-1897 1893-10-05   \n",
       "2  K.V.O. programmas 1893-97_00011-20211201_11345...  1893-1897 1893-10-10   \n",
       "3  K.V.O. programmas 1893-97_00013-20211201_11351...  1893-1897 1893-10-12   \n",
       "4  K.V.O. programmas 1893-97_00015-20211201_11352...  1893-1897 1893-11-16   \n",
       "\n",
       "  Performances_ID  Normalised title Original language        Production  \n",
       "0          466791   De Vrijschutter               DUI   De Vrijschutter  \n",
       "1          445919       Willem Tell               DUI       Willem Tell  \n",
       "2          845496   De Vrijschutter               DUI   De Vrijschutter  \n",
       "3          205093       Willem Tell               DUI       Willem Tell  \n",
       "4          854224  Charlotte Corday                NL  Charlotte Corday  "
      ]
     },
     "execution_count": 79,
     "metadata": {},
     "output_type": "execute_result"
    }
   ],
   "source": [
    "len(merged_df) == old_len\n",
    "df2.tail()\n",
    "df['Production'] = df['Normalised title']\n",
    "df.head()"
   ]
  },
  {
   "cell_type": "code",
   "execution_count": 80,
   "metadata": {},
   "outputs": [],
   "source": [
    "import os\n",
    "import shutil\n",
    "\n",
    "df2['new_image'] = ''\n",
    "\n",
    "for index, row in df2.iterrows():\n",
    "    filename = row['Image']\n",
    "    collection = row['Collection']\n",
    "\n",
    "    _, extension = os.path.splitext(filename)\n",
    "\n",
    "    # Create a new filename which is the collection followed by a consecutive number.\n",
    "    new_filename = f\"{collection}_{index}{extension}\"\n",
    "    df2.at[index, 'new_image'] = new_filename\n"
   ]
  },
  {
   "cell_type": "code",
   "execution_count": 81,
   "metadata": {},
   "outputs": [
    {
     "data": {
      "text/html": [
       "<div>\n",
       "<style scoped>\n",
       "    .dataframe tbody tr th:only-of-type {\n",
       "        vertical-align: middle;\n",
       "    }\n",
       "\n",
       "    .dataframe tbody tr th {\n",
       "        vertical-align: top;\n",
       "    }\n",
       "\n",
       "    .dataframe thead th {\n",
       "        text-align: right;\n",
       "    }\n",
       "</style>\n",
       "<table border=\"1\" class=\"dataframe\">\n",
       "  <thead>\n",
       "    <tr style=\"text-align: right;\">\n",
       "      <th></th>\n",
       "      <th>Collection</th>\n",
       "      <th>Normalised title</th>\n",
       "      <th>Date</th>\n",
       "      <th>Original language</th>\n",
       "      <th>Image</th>\n",
       "    </tr>\n",
       "  </thead>\n",
       "  <tbody>\n",
       "    <tr>\n",
       "      <th>0</th>\n",
       "      <td>1893-1897</td>\n",
       "      <td>De Vrijschutter</td>\n",
       "      <td>1893-10-03</td>\n",
       "      <td>DUI</td>\n",
       "      <td>1893-1897_0.jpg</td>\n",
       "    </tr>\n",
       "    <tr>\n",
       "      <th>1</th>\n",
       "      <td>1893-1897</td>\n",
       "      <td>Willem Tell</td>\n",
       "      <td>1893-10-05</td>\n",
       "      <td>DUI</td>\n",
       "      <td>1893-1897_1.jpg</td>\n",
       "    </tr>\n",
       "    <tr>\n",
       "      <th>2</th>\n",
       "      <td>1893-1897</td>\n",
       "      <td>De Vrijschutter</td>\n",
       "      <td>1893-10-10</td>\n",
       "      <td>DUI</td>\n",
       "      <td>1893-1897_2.jpg</td>\n",
       "    </tr>\n",
       "    <tr>\n",
       "      <th>3</th>\n",
       "      <td>1893-1897</td>\n",
       "      <td>Willem Tell</td>\n",
       "      <td>1893-10-12</td>\n",
       "      <td>DUI</td>\n",
       "      <td>1893-1897_3.jpg</td>\n",
       "    </tr>\n",
       "    <tr>\n",
       "      <th>4</th>\n",
       "      <td>1893-1897</td>\n",
       "      <td>Charlotte Corday</td>\n",
       "      <td>1893-11-16</td>\n",
       "      <td>NL</td>\n",
       "      <td>1893-1897_4.jpg</td>\n",
       "    </tr>\n",
       "  </tbody>\n",
       "</table>\n",
       "</div>"
      ],
      "text/plain": [
       "  Collection  Normalised title        Date Original language            Image\n",
       "0  1893-1897   De Vrijschutter  1893-10-03               DUI  1893-1897_0.jpg\n",
       "1  1893-1897       Willem Tell  1893-10-05               DUI  1893-1897_1.jpg\n",
       "2  1893-1897   De Vrijschutter  1893-10-10               DUI  1893-1897_2.jpg\n",
       "3  1893-1897       Willem Tell  1893-10-12               DUI  1893-1897_3.jpg\n",
       "4  1893-1897  Charlotte Corday  1893-11-16                NL  1893-1897_4.jpg"
      ]
     },
     "execution_count": 81,
     "metadata": {},
     "output_type": "execute_result"
    }
   ],
   "source": [
    "df2 = df2.drop(columns=['Image', 'Performances_ID'])\n",
    "df2.rename(columns={\"new_image\": \"Image\"}, inplace=True)\n",
    "df2.head()"
   ]
  },
  {
   "cell_type": "code",
   "execution_count": 82,
   "metadata": {},
   "outputs": [],
   "source": [
    "\n",
    "df2.to_csv('../../Primair/Volledige_dataset_omeka/OMEKA_volledige_dataset.csv', encoding='utf-8', index=False)\n",
    "\n"
   ]
  },
  {
   "attachments": {},
   "cell_type": "markdown",
   "metadata": {},
   "source": [
    "import os\n",
    "import shutil\n",
    "\n",
    "\n",
    "# Path to the folder containing the subfolders with images\n",
    "base_folder = '../../Primair/1926-1927_bis'\n",
    "\n",
    "# Path to the folder where you want to create the new subfolders\n",
    "output_folder = '../../Primair/Volledige_dataset_omeka'\n",
    "\n",
    "\n",
    "for index, row in df2.iterrows():\n",
    "   \n",
    "    filename = row['Image']\n",
    "    collection = row['Collection']\n",
    "    \n",
    "    _, extension = os.path.splitext(filename)\n",
    "    \n",
    "   # Create a new filename which is the collection followed by a consecutive number.\n",
    "    new_filename = f\"{collection}_{index}{extension}\"\n",
    "    \n",
    "    # Find the subfolder containing the image\n",
    "    for root, dirs, files in os.walk(base_folder):\n",
    "        if filename in files:\n",
    "            # Create the new subfolder in the output folder if it doesn't exist\n",
    "            new_subfolder = os.path.join(output_folder, collection)\n",
    "            os.makedirs(new_subfolder, exist_ok=True)\n",
    "            \n",
    "            src_path = os.path.join(root, filename)\n",
    "            dest_path = os.path.join(new_subfolder, new_filename)\n",
    "            shutil.copy(src_path, dest_path)\n",
    "            \n",
    "            break  \n",
    "\n",
    "print(\"Images copied and renamed successfully.\")"
   ]
  },
  {
   "cell_type": "code",
   "execution_count": null,
   "metadata": {},
   "outputs": [],
   "source": []
  }
 ],
 "metadata": {
  "kernelspec": {
   "display_name": "base",
   "language": "python",
   "name": "python3"
  },
  "language_info": {
   "codemirror_mode": {
    "name": "ipython",
    "version": 3
   },
   "file_extension": ".py",
   "mimetype": "text/x-python",
   "name": "python",
   "nbconvert_exporter": "python",
   "pygments_lexer": "ipython3",
   "version": "3.9.13"
  },
  "orig_nbformat": 4,
  "vscode": {
   "interpreter": {
    "hash": "96e0a4d32f1918f770291244863a4a1e044b05d1a3b8d455e2e179187e01062a"
   }
  }
 },
 "nbformat": 4,
 "nbformat_minor": 2
}
