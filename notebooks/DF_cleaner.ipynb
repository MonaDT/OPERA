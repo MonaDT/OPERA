{
 "cells": [
  {
   "attachments": {},
   "cell_type": "markdown",
   "id": "ea717f91",
   "metadata": {},
   "source": [
    "# DF Cleaner\n",
    "\n",
    "## Data cleaning"
   ]
  },
  {
   "cell_type": "code",
   "execution_count": 1,
   "id": "42a94d3d",
   "metadata": {},
   "outputs": [
    {
     "data": {
      "text/html": [
       "<div>\n",
       "<style scoped>\n",
       "    .dataframe tbody tr th:only-of-type {\n",
       "        vertical-align: middle;\n",
       "    }\n",
       "\n",
       "    .dataframe tbody tr th {\n",
       "        vertical-align: top;\n",
       "    }\n",
       "\n",
       "    .dataframe thead th {\n",
       "        text-align: right;\n",
       "    }\n",
       "</style>\n",
       "<table border=\"1\" class=\"dataframe\">\n",
       "  <thead>\n",
       "    <tr style=\"text-align: right;\">\n",
       "      <th></th>\n",
       "      <th>Image</th>\n",
       "      <th>Collection</th>\n",
       "      <th>Production</th>\n",
       "      <th>Date</th>\n",
       "      <th>Occasion</th>\n",
       "    </tr>\n",
       "  </thead>\n",
       "  <tbody>\n",
       "    <tr>\n",
       "      <th>0</th>\n",
       "      <td>K.V.O. programmas 1893-97_00001-20211201_11330...</td>\n",
       "      <td>1893-1897</td>\n",
       "      <td>NaN</td>\n",
       "      <td>NaN</td>\n",
       "      <td>NaN</td>\n",
       "    </tr>\n",
       "    <tr>\n",
       "      <th>1</th>\n",
       "      <td>K.V.O. programmas 1893-97_00002-20211201_11332...</td>\n",
       "      <td>1893-1897</td>\n",
       "      <td>NaN</td>\n",
       "      <td>NaN</td>\n",
       "      <td>NaN</td>\n",
       "    </tr>\n",
       "    <tr>\n",
       "      <th>2</th>\n",
       "      <td>K.V.O. programmas 1893-97_00003-20211201_11333...</td>\n",
       "      <td>1893-1897</td>\n",
       "      <td>NaN</td>\n",
       "      <td>NaN</td>\n",
       "      <td>NaN</td>\n",
       "    </tr>\n",
       "    <tr>\n",
       "      <th>3</th>\n",
       "      <td>K.V.O. programmas 1893-97_00004-20211201_11334...</td>\n",
       "      <td>1893-1897</td>\n",
       "      <td>NaN</td>\n",
       "      <td>NaN</td>\n",
       "      <td>NaN</td>\n",
       "    </tr>\n",
       "    <tr>\n",
       "      <th>4</th>\n",
       "      <td>K.V.O. programmas 1893-97_00005-20211201_11335...</td>\n",
       "      <td>1893-1897</td>\n",
       "      <td>De Vrijschutter</td>\n",
       "      <td>3/10/1893</td>\n",
       "      <td>Eerste vertoning</td>\n",
       "    </tr>\n",
       "  </tbody>\n",
       "</table>\n",
       "</div>"
      ],
      "text/plain": [
       "                                               Image Collection  \\\n",
       "0  K.V.O. programmas 1893-97_00001-20211201_11330...  1893-1897   \n",
       "1  K.V.O. programmas 1893-97_00002-20211201_11332...  1893-1897   \n",
       "2  K.V.O. programmas 1893-97_00003-20211201_11333...  1893-1897   \n",
       "3  K.V.O. programmas 1893-97_00004-20211201_11334...  1893-1897   \n",
       "4  K.V.O. programmas 1893-97_00005-20211201_11335...  1893-1897   \n",
       "\n",
       "        Production       Date          Occasion  \n",
       "0              NaN        NaN               NaN  \n",
       "1              NaN        NaN               NaN  \n",
       "2              NaN        NaN               NaN  \n",
       "3              NaN        NaN               NaN  \n",
       "4  De Vrijschutter  3/10/1893  Eerste vertoning  "
      ]
     },
     "execution_count": 1,
     "metadata": {},
     "output_type": "execute_result"
    }
   ],
   "source": [
    "import pandas as pd\n",
    "\n",
    "df = pd.read_csv(\"../Materials/Metadata_OBV_gesplitst_test.csv\")\n",
    "df.head()"
   ]
  },
  {
   "cell_type": "code",
   "execution_count": 2,
   "id": "23bd8100",
   "metadata": {},
   "outputs": [],
   "source": [
    "#Delete trailing and leading whitespaces.\n",
    "df['Image'] = df['Image'].str.strip() \n",
    "df['Collection'] = df['Collection'].str.strip() \n",
    "df['Production'] = df['Production'].str.strip() \n",
    "df['Occasion'] = df['Occasion'].str.strip() \n"
   ]
  },
  {
   "cell_type": "code",
   "execution_count": 3,
   "id": "3bee619b",
   "metadata": {},
   "outputs": [
    {
     "data": {
      "text/plain": [
       "False    10466\n",
       "True       526\n",
       "Name: Multiple bill, dtype: int64"
      ]
     },
     "execution_count": 3,
     "metadata": {},
     "output_type": "execute_result"
    }
   ],
   "source": [
    "#New boolean column, which indicates whether the performance was part of a multiple bill (True) or not (False).\n",
    "\n",
    "multiple_bills = []\n",
    "for row in df['Production']:\n",
    "    if '+' in str(row):\n",
    "        multiple_bills.append(True)\n",
    "    else:\n",
    "        multiple_bills.append(False)\n",
    "\n",
    "\n",
    "df['Multiple bill'] = multiple_bills\n",
    "df['Multiple bill'].value_counts()"
   ]
  },
  {
   "cell_type": "code",
   "execution_count": 4,
   "id": "4c1d8e7c",
   "metadata": {},
   "outputs": [],
   "source": [
    "#New column with a random ID voor each performance.\n",
    "\n",
    "import random\n",
    "df['Performances_ID'] = random.sample(range(100000, 999999), df.shape[0])\n"
   ]
  },
  {
   "cell_type": "code",
   "execution_count": 5,
   "id": "93146f0e",
   "metadata": {},
   "outputs": [
    {
     "data": {
      "text/html": [
       "<div>\n",
       "<style scoped>\n",
       "    .dataframe tbody tr th:only-of-type {\n",
       "        vertical-align: middle;\n",
       "    }\n",
       "\n",
       "    .dataframe tbody tr th {\n",
       "        vertical-align: top;\n",
       "    }\n",
       "\n",
       "    .dataframe thead th {\n",
       "        text-align: right;\n",
       "    }\n",
       "</style>\n",
       "<table border=\"1\" class=\"dataframe\">\n",
       "  <thead>\n",
       "    <tr style=\"text-align: right;\">\n",
       "      <th></th>\n",
       "      <th>Image</th>\n",
       "      <th>Collection</th>\n",
       "      <th>Production</th>\n",
       "      <th>Date</th>\n",
       "      <th>Occasion</th>\n",
       "      <th>Multiple bill</th>\n",
       "      <th>Performances_ID</th>\n",
       "    </tr>\n",
       "  </thead>\n",
       "  <tbody>\n",
       "    <tr>\n",
       "      <th>3053</th>\n",
       "      <td>1909-1910 Vlaamse Opera_00091-20211216_151642.jpg</td>\n",
       "      <td>1909-1910</td>\n",
       "      <td>Het Arendsnest</td>\n",
       "      <td>16/10/1909</td>\n",
       "      <td>NaN</td>\n",
       "      <td>True</td>\n",
       "      <td>113894</td>\n",
       "    </tr>\n",
       "    <tr>\n",
       "      <th>8578</th>\n",
       "      <td>1929-1930_00287-20220208_164015.jpg</td>\n",
       "      <td>1929-1930</td>\n",
       "      <td>Christ'l</td>\n",
       "      <td>15/12/1929</td>\n",
       "      <td>NaN</td>\n",
       "      <td>False</td>\n",
       "      <td>453408</td>\n",
       "    </tr>\n",
       "    <tr>\n",
       "      <th>10728</th>\n",
       "      <td>1931-1932_00172-20220210_113950.jpg</td>\n",
       "      <td>1931-1932</td>\n",
       "      <td>NaN</td>\n",
       "      <td>NaN</td>\n",
       "      <td>NaN</td>\n",
       "      <td>False</td>\n",
       "      <td>583142</td>\n",
       "    </tr>\n",
       "    <tr>\n",
       "      <th>692</th>\n",
       "      <td>1897-1900 Nederlandsch Lyrisch Tooneel. Progra...</td>\n",
       "      <td>1897-1900</td>\n",
       "      <td>NaN</td>\n",
       "      <td>NaN</td>\n",
       "      <td>NaN</td>\n",
       "      <td>False</td>\n",
       "      <td>139203</td>\n",
       "    </tr>\n",
       "    <tr>\n",
       "      <th>7065</th>\n",
       "      <td>1927-1928_00023-20220208_125638.jpg</td>\n",
       "      <td>1927-1928</td>\n",
       "      <td>NaN</td>\n",
       "      <td>NaN</td>\n",
       "      <td>NaN</td>\n",
       "      <td>False</td>\n",
       "      <td>930900</td>\n",
       "    </tr>\n",
       "  </tbody>\n",
       "</table>\n",
       "</div>"
      ],
      "text/plain": [
       "                                                   Image Collection  \\\n",
       "3053   1909-1910 Vlaamse Opera_00091-20211216_151642.jpg  1909-1910   \n",
       "8578                 1929-1930_00287-20220208_164015.jpg  1929-1930   \n",
       "10728                1931-1932_00172-20220210_113950.jpg  1931-1932   \n",
       "692    1897-1900 Nederlandsch Lyrisch Tooneel. Progra...  1897-1900   \n",
       "7065                 1927-1928_00023-20220208_125638.jpg  1927-1928   \n",
       "\n",
       "            Production        Date Occasion  Multiple bill  Performances_ID  \n",
       "3053    Het Arendsnest  16/10/1909      NaN           True           113894  \n",
       "8578          Christ'l  15/12/1929      NaN          False           453408  \n",
       "10728              NaN         NaN      NaN          False           583142  \n",
       "692                NaN         NaN      NaN          False           139203  \n",
       "7065               NaN         NaN      NaN          False           930900  "
      ]
     },
     "execution_count": 5,
     "metadata": {},
     "output_type": "execute_result"
    }
   ],
   "source": [
    "# Cells that include a '+' , i.e. a multiple bill are split so that each row only contains one work.\n",
    "# Through the Performance_ID we can keep track of those performances that were performed as a multiple bill.\n",
    "\n",
    "df = df.assign(Production=df.Production.str.split(\"+\")).explode('Production')\n",
    "df = df.reset_index(drop=True)\n",
    "df.sample(5)"
   ]
  },
  {
   "attachments": {},
   "cell_type": "markdown",
   "id": "f8952123",
   "metadata": {},
   "source": [
    "## Normalise spelling"
   ]
  },
  {
   "cell_type": "code",
   "execution_count": 6,
   "id": "24d7cd35",
   "metadata": {},
   "outputs": [],
   "source": [
    "#Establish dictionary in I keep track of spelling variations.\n",
    "VariatieC = {\n",
    "\"Het Minnebrugje\" : \"T' Minnebrugje Het Minnebrugsken Het minnebrugje Minnebrugje\",\n",
    "\"Het Arendsnest\" : \"Arendsnest\",\n",
    "\"Bohème\" : \"Boheme\",\n",
    "\"De Bruid der Zee\" : \"Bruid der Zee\",\n",
    "\"Het Kind\" : \"Das Kind\",\n",
    "\"Czaar en Timmerman\" : \"Csaar en Timmerman\",\n",
    "\"De Verzonken Klok\" : \"De Verzonkene Klok\",\n",
    "\"De Bedelstudent\" : \"De Arme student\",\n",
    "\"De Doode Oogen\" : \"De Dode Ogen\",\n",
    "\"De Doode Stad\" : \"De Dode Stad\",\n",
    "\"De Koningin van Saba\" : \"De Koningin van Saaba\",\n",
    "\"De Lustige Boer\" : \"De Lustige Broeder Lustige Boer\",\n",
    "\"De Lustige Oorlog\" : \"De Vrolijke Oorlog\",\n",
    "\"De Lustige Vrouwtjes van Windsor\" : \"The Merry Wives of Windsor De Vrolijke Vrouwtjes van Windsor Lustige Vrouwtjes van Windsor\",\n",
    "\"De Meesterzangers van Nurenberg\" : \"De Meesterzanger De Meesterzangers De Meesterzangers van Nuremberg De Meesterzangers van Nürnberg\", \n",
    "\"De Tooverfluit\" : \"Tooverfluit Tooverfluit\",\n",
    "\"De Tragedie van Salomé\" : \"De tragedie van Salomé\",\n",
    "\"De Twee Medaillons\" : \"De Tweede Medaillons\",\n",
    "\"De Vestale\" : \"Vestale\",\n",
    "\"De Vrijschutter\" : \"Vrijschutter\",\n",
    "\"De Walkure\" : \"De Walküre La Walkyrie Die Walkure\",\n",
    "\"De Zeven Hoofdzonden\" : \"de Zeven Hoofdzonden\",\n",
    "\"De Drie Houten Poppen\" : \"De drie Houten Poppen\",\n",
    "\"De Evangelieman\" : \"Die Evangelieman\",\n",
    "\"Don Juan\" : \"Don Giovanni\",\n",
    "\"De Draaimolen\" : \"Draaimolen\",\n",
    "\"Driemeisjeshuis\" : \"Het Driemeisjeshuis\",\n",
    "\"Een Nacht te Grenada\" : \"Eeen Nacht te Grenada\",\n",
    "\"Ein Walzertraum\" : \"Walzertaum\",\n",
    "\"Hansje en Grietje\" : \"Hans en Grietje\",\n",
    "\"Herbergprinses\" : \"Herbergrprinses Herberprinses\",\n",
    "\"Het Rijngoud\" : \"Rijngoud\",\n",
    "\"Het Rozemarijntje\" : \"Rosemarijntje Rozemarijntje\",\n",
    "\"Winternachtsdroom\" : \"Het Winternachtsdroom\",\n",
    "\"Zeevolk\" : \"Het Zeevolk\",\n",
    "\"Hoffmann's Vertellingenen\" : \"Hoffmann's Vertellingen\",\n",
    "\"Jean-Marie\" : \"Jose Maria Jean Marie Marie José\",\n",
    "\"Jozef in Egypte\" : \"Josef in Egypte\",\n",
    "\"De Kinderen der Zee\": \"Kinderen der Zee\",\n",
    "\"Liefdetoover\" : \"Liefde Toover\",\n",
    "\"Marieke van Nijmegem\" : \"Marieke van Nijmegen Marike van Nymegem\",\n",
    "\"Orpheus' Dood\" : \"Orpheus's Dood\",\n",
    "\"Paljas\" : \"Pagliacci\",\n",
    "\"Parisina\" : 'Parsina',\n",
    "\"Quinten Massijs\" : \"Quinten Massys Quinten Metsys Quinten-Massijs Quinten-Massys\",\n",
    "\"Reeks van Oud-Grieksche Dansen\" : \"Reeks van Oud-Griekscge Dansen\",\n",
    "\"Reinaert de Vos\" : \"Reinart de Vos\",\n",
    "\"De Rijndwergen\": \"Rijndwergen\",\n",
    "\"Tannhauser\" : \"Tannhäuser\",\n",
    "\"Theroigne de Mericout\" : \"Theroigne De Mericourt Theroigne de Mericoux Théroigne de Méricourt Théroigne de Méricout\",\n",
    "\"Toespraak van den Heer Dr. Maurits Sabbe, conservator van het Museum Plantijn\" : \"Toespraal van den Heer Dr. Maurits Sabbe, conservator van het Museum Plantijn\",\n",
    "\"Tweede Dansenreeks\" : \"Tweede dansreeks\",\n",
    "\"Zwaargewicht\" : \"Zwaargewicht ( of De eer van't Land)\"\n",
    "}"
   ]
  },
  {
   "cell_type": "code",
   "execution_count": 7,
   "id": "cc7e0a04",
   "metadata": {},
   "outputs": [],
   "source": [
    "#create functions that iterates over the items in the dictionary and returns the key if the title is in the values.\n",
    "#if it is not in the values, there was not spelling variation for this title and the title is returned.\n",
    "def clean_titles (row):\n",
    "\n",
    "    for key, values in VariatieC.items():\n",
    "        if str(row) in str(values):\n",
    "            #print('it is in the values')\n",
    "            return key\n",
    "        elif row == key:\n",
    "            return key\n",
    "    else:\n",
    "        return row\n",
    "    "
   ]
  },
  {
   "cell_type": "code",
   "execution_count": 8,
   "id": "48663cef",
   "metadata": {},
   "outputs": [
    {
     "name": "stdout",
     "output_type": "stream",
     "text": [
      "Quinten Massijs\n",
      "Tannhauser\n",
      "Madame Butterfly\n"
     ]
    }
   ],
   "source": [
    "#Test it on some variations.\n",
    "\n",
    "a = 'Quinten Metsys'\n",
    "b = \"Tannhäuser\"\n",
    "c = 'Madame Butterfly'\n",
    "\n",
    "print(clean_titles(a))\n",
    "print(clean_titles(b))\n",
    "print(clean_titles(c))\n"
   ]
  },
  {
   "cell_type": "code",
   "execution_count": 9,
   "id": "2a79935e",
   "metadata": {},
   "outputs": [],
   "source": [
    "#Function is now applied to the entire dataset. The normalised spelling is gathered in a new column called 'Genormaliseerde titel'.\n",
    "df['Normalised title'] = df['Production'].apply(clean_titles)\n"
   ]
  },
  {
   "cell_type": "code",
   "execution_count": 10,
   "id": "f002fd2f",
   "metadata": {},
   "outputs": [],
   "source": [
    "#delete all leading and trailing whitespaces.\n",
    "for column in df.columns:\n",
    "    try:\n",
    "        df[column] = df[column].str.strip()\n",
    "    except AttributeError:\n",
    "        continue"
   ]
  },
  {
   "attachments": {},
   "cell_type": "markdown",
   "id": "4806b0f9",
   "metadata": {},
   "source": [
    "## Add metadata"
   ]
  },
  {
   "attachments": {},
   "cell_type": "markdown",
   "id": "f96fa8b9",
   "metadata": {},
   "source": [
    "Load dictionary-formatted txt-file containing additional metadata.\n",
    "- key = normalised title\n",
    "- value [0] = original title\n",
    "- value [1] = composer\n",
    "- value [2] = year of first performance\n",
    "- value [3] = original title\n",
    "- value [4] = genre (not used in the thesis)\n"
   ]
  },
  {
   "cell_type": "code",
   "execution_count": 11,
   "id": "28d6105c",
   "metadata": {},
   "outputs": [],
   "source": [
    "with open('C:/Users/monaa/Dropbox/Thesis/secundair/META.txt','r', encoding = 'UTF8') as inf:\n",
    "    Metadata = eval(inf.read())\n",
    "\n",
    "#load the metadata"
   ]
  },
  {
   "cell_type": "code",
   "execution_count": 12,
   "id": "3fb94576",
   "metadata": {},
   "outputs": [
    {
     "name": "stdout",
     "output_type": "stream",
     "text": [
      "Looking good!\n"
     ]
    }
   ],
   "source": [
    "#Check if the txt-file is formatted correctly\n",
    "output = []\n",
    "for key, values in Metadata.items():\n",
    "    if len(values) != 5:\n",
    "       output.append(values)\n",
    "       print(output)\n",
    "\n",
    "if len(output) == 0:\n",
    "    print('Looking good!')"
   ]
  },
  {
   "cell_type": "code",
   "execution_count": 13,
   "id": "f24ea659",
   "metadata": {},
   "outputs": [
    {
     "name": "stdout",
     "output_type": "stream",
     "text": [
      "ITA\n",
      "DUI\n",
      "NL\n"
     ]
    }
   ],
   "source": [
    "#Define a function that identifies the original lanagage based on the metadata.\n",
    "\n",
    "def add_taal (row):\n",
    "    for key, values in Metadata.items():\n",
    "        if row == key:\n",
    "            return values[0]\n",
    "    else:\n",
    "        return 'N/A'\n",
    "\n",
    "#try it out.\n",
    "\n",
    "a = \"Madame Butterfly\"\n",
    "b = \"Tannhauser\"\n",
    "c = \"Quinten Massijs\"\n",
    "\n",
    "print(add_taal(a))\n",
    "print(add_taal(b))\n",
    "print(add_taal(c))\n"
   ]
  },
  {
   "cell_type": "code",
   "execution_count": 14,
   "id": "f9eb1c23",
   "metadata": {},
   "outputs": [
    {
     "name": "stdout",
     "output_type": "stream",
     "text": [
      "Giacomo Puccini\n",
      "Richard Wagner\n",
      "Emile Wambach\n"
     ]
    }
   ],
   "source": [
    "#Define a function that identifies the composer based on the metadata.\n",
    "\n",
    "def add_composer (row):\n",
    "    for key, values in Metadata.items():\n",
    "        if row == key:\n",
    "            return values[1]\n",
    "    else:\n",
    "        return 'N/A'\n",
    "    \n",
    "#try it out.\n",
    "\n",
    "print(add_composer(a))\n",
    "print(add_composer(b))\n",
    "print(add_composer(c))\n"
   ]
  },
  {
   "cell_type": "code",
   "execution_count": 15,
   "id": "56caf190",
   "metadata": {},
   "outputs": [
    {
     "name": "stdout",
     "output_type": "stream",
     "text": [
      "1904\n",
      "1845\n",
      "1899\n"
     ]
    }
   ],
   "source": [
    "#Define a function that identifies the year of the first performance based on the metadata.\n",
    "\n",
    "def add_premiere (row):\n",
    "    for key, values in Metadata.items():\n",
    "        if row == key:\n",
    "            return values[2]\n",
    "    else:\n",
    "        return 'N/A'\n",
    "\n",
    "print(add_premiere(a))\n",
    "print(add_premiere(b))\n",
    "print(add_premiere(c))\n"
   ]
  },
  {
   "cell_type": "code",
   "execution_count": 16,
   "id": "b805a14a",
   "metadata": {},
   "outputs": [
    {
     "name": "stdout",
     "output_type": "stream",
     "text": [
      "Madama Butterfly\n",
      "Tannhäuser\n",
      "Quinten Massys\n"
     ]
    }
   ],
   "source": [
    "#Define a function that identifies the year of the original title based on the metadata.\n",
    "\n",
    "def add_oortitel (row):\n",
    "    for key, values in Metadata.items():\n",
    "        if row == key:\n",
    "            return values[3]\n",
    "    else:\n",
    "        return 'N/A'\n",
    "\n",
    "\n",
    "print(add_oortitel(a))\n",
    "print(add_oortitel(b))\n",
    "print(add_oortitel(c))"
   ]
  },
  {
   "cell_type": "code",
   "execution_count": 17,
   "id": "7b41dfac",
   "metadata": {},
   "outputs": [
    {
     "name": "stdout",
     "output_type": "stream",
     "text": [
      "opera seria\n",
      "romantische oper\n",
      "lyrisch drama\n"
     ]
    }
   ],
   "source": [
    "#Define a function that identifies the year of the genre based on the metadata.\n",
    "\n",
    "def add_genre (row):\n",
    "    for key, values in Metadata.items():\n",
    "        if row == key:\n",
    "            return values[4].lower()\n",
    "    else:\n",
    "        return 'N/A'\n",
    "\n",
    "\n",
    "print(add_genre(a))\n",
    "print(add_genre(b))\n",
    "print(add_genre(c))"
   ]
  },
  {
   "cell_type": "code",
   "execution_count": 18,
   "id": "59036f7b",
   "metadata": {},
   "outputs": [
    {
     "data": {
      "text/html": [
       "<div>\n",
       "<style scoped>\n",
       "    .dataframe tbody tr th:only-of-type {\n",
       "        vertical-align: middle;\n",
       "    }\n",
       "\n",
       "    .dataframe tbody tr th {\n",
       "        vertical-align: top;\n",
       "    }\n",
       "\n",
       "    .dataframe thead th {\n",
       "        text-align: right;\n",
       "    }\n",
       "</style>\n",
       "<table border=\"1\" class=\"dataframe\">\n",
       "  <thead>\n",
       "    <tr style=\"text-align: right;\">\n",
       "      <th></th>\n",
       "      <th>Image</th>\n",
       "      <th>Collection</th>\n",
       "      <th>Production</th>\n",
       "      <th>Date</th>\n",
       "      <th>Occasion</th>\n",
       "      <th>Multiple bill</th>\n",
       "      <th>Performances_ID</th>\n",
       "      <th>Normalised title</th>\n",
       "      <th>Original language</th>\n",
       "      <th>Composer</th>\n",
       "      <th>Original premiere</th>\n",
       "      <th>Original title</th>\n",
       "      <th>genre</th>\n",
       "    </tr>\n",
       "  </thead>\n",
       "  <tbody>\n",
       "    <tr>\n",
       "      <th>491</th>\n",
       "      <td>K.V.O. programmas 1893-97_00476-20211201_13300...</td>\n",
       "      <td>1893-1897</td>\n",
       "      <td>Lohengrin</td>\n",
       "      <td>23/1/1897</td>\n",
       "      <td>NaN</td>\n",
       "      <td>False</td>\n",
       "      <td>250420</td>\n",
       "      <td>Lohengrin</td>\n",
       "      <td>DUI</td>\n",
       "      <td>Richard Wagner</td>\n",
       "      <td>1850</td>\n",
       "      <td>Lohengrin</td>\n",
       "      <td>romantische oper</td>\n",
       "    </tr>\n",
       "    <tr>\n",
       "      <th>7827</th>\n",
       "      <td>1927-1928_00764-20220208_144640.jpg</td>\n",
       "      <td>1927-1928</td>\n",
       "      <td>NaN</td>\n",
       "      <td>NaN</td>\n",
       "      <td>NaN</td>\n",
       "      <td>False</td>\n",
       "      <td>721866</td>\n",
       "      <td>NaN</td>\n",
       "      <td>N/A</td>\n",
       "      <td>N/A</td>\n",
       "      <td>N/A</td>\n",
       "      <td>N/A</td>\n",
       "      <td>N/A</td>\n",
       "    </tr>\n",
       "    <tr>\n",
       "      <th>2615</th>\n",
       "      <td>1908-1909 Vlaamsche opera_00039-20211216_14103...</td>\n",
       "      <td>1908-1909</td>\n",
       "      <td>Faust</td>\n",
       "      <td>01/11/1908</td>\n",
       "      <td>NaN</td>\n",
       "      <td>True</td>\n",
       "      <td>543628</td>\n",
       "      <td>Faust</td>\n",
       "      <td>FR</td>\n",
       "      <td>Charles Gounod</td>\n",
       "      <td>1859</td>\n",
       "      <td>Faust</td>\n",
       "      <td>grand opera</td>\n",
       "    </tr>\n",
       "    <tr>\n",
       "      <th>6176</th>\n",
       "      <td>1925-1926_00130-20220208_093857.jpg</td>\n",
       "      <td>1925-1926</td>\n",
       "      <td>NaN</td>\n",
       "      <td>NaN</td>\n",
       "      <td>NaN</td>\n",
       "      <td>False</td>\n",
       "      <td>744839</td>\n",
       "      <td>NaN</td>\n",
       "      <td>N/A</td>\n",
       "      <td>N/A</td>\n",
       "      <td>N/A</td>\n",
       "      <td>N/A</td>\n",
       "      <td>N/A</td>\n",
       "    </tr>\n",
       "    <tr>\n",
       "      <th>6787</th>\n",
       "      <td>1926-1927_00330-20220208_110810.jpg</td>\n",
       "      <td>1926-1927</td>\n",
       "      <td>De Tooverfluit</td>\n",
       "      <td>23/01/1927</td>\n",
       "      <td>NaN</td>\n",
       "      <td>False</td>\n",
       "      <td>666858</td>\n",
       "      <td>De Tooverfluit</td>\n",
       "      <td>DUI</td>\n",
       "      <td>Wolfgang Amadeus Mozart</td>\n",
       "      <td>1791</td>\n",
       "      <td>Die Zauberflöte</td>\n",
       "      <td>zangspel</td>\n",
       "    </tr>\n",
       "  </tbody>\n",
       "</table>\n",
       "</div>"
      ],
      "text/plain": [
       "                                                  Image Collection  \\\n",
       "491   K.V.O. programmas 1893-97_00476-20211201_13300...  1893-1897   \n",
       "7827                1927-1928_00764-20220208_144640.jpg  1927-1928   \n",
       "2615  1908-1909 Vlaamsche opera_00039-20211216_14103...  1908-1909   \n",
       "6176                1925-1926_00130-20220208_093857.jpg  1925-1926   \n",
       "6787                1926-1927_00330-20220208_110810.jpg  1926-1927   \n",
       "\n",
       "          Production        Date Occasion  Multiple bill  Performances_ID  \\\n",
       "491        Lohengrin   23/1/1897      NaN          False           250420   \n",
       "7827             NaN         NaN      NaN          False           721866   \n",
       "2615           Faust  01/11/1908      NaN           True           543628   \n",
       "6176             NaN         NaN      NaN          False           744839   \n",
       "6787  De Tooverfluit  23/01/1927      NaN          False           666858   \n",
       "\n",
       "     Normalised title Original language                 Composer  \\\n",
       "491         Lohengrin               DUI           Richard Wagner   \n",
       "7827              NaN               N/A                      N/A   \n",
       "2615            Faust                FR           Charles Gounod   \n",
       "6176              NaN               N/A                      N/A   \n",
       "6787   De Tooverfluit               DUI  Wolfgang Amadeus Mozart   \n",
       "\n",
       "     Original premiere   Original title             genre  \n",
       "491               1850        Lohengrin  romantische oper  \n",
       "7827               N/A              N/A               N/A  \n",
       "2615              1859            Faust       grand opera  \n",
       "6176               N/A              N/A               N/A  \n",
       "6787              1791  Die Zauberflöte          zangspel  "
      ]
     },
     "execution_count": 18,
     "metadata": {},
     "output_type": "execute_result"
    }
   ],
   "source": [
    "#add the metadata as new columns in the dataframe.\n",
    "\n",
    "df['Original language'] = df['Normalised title'].apply(add_taal)\n",
    "df['Composer'] = df['Normalised title'].apply(add_composer)\n",
    "df['Original premiere'] = df['Normalised title'].apply(add_premiere)\n",
    "df['Original title'] = df['Normalised title'].apply(add_oortitel)\n",
    "df['genre'] = df['Normalised title'].apply(add_genre)\n",
    "df.sample(5)\n"
   ]
  },
  {
   "attachments": {},
   "cell_type": "markdown",
   "id": "763fe937",
   "metadata": {},
   "source": [
    "## Additional preprocessing"
   ]
  },
  {
   "cell_type": "code",
   "execution_count": 19,
   "id": "d46f7422",
   "metadata": {},
   "outputs": [],
   "source": [
    "#Convert the Date column to datetime\n",
    "\n",
    "df['Date'] = pd.to_datetime(df['Date'], dayfirst=True, errors='coerce')\n"
   ]
  },
  {
   "cell_type": "code",
   "execution_count": 20,
   "id": "ff74ef4c",
   "metadata": {},
   "outputs": [],
   "source": [
    "\n",
    "# Obtain the season. An operatic season runs (approximately) from september to May\n",
    "def get_season(date):\n",
    "    year = date.year\n",
    "    if date.month >= 9:\n",
    "        return f\"{year}-{year+1}\"\n",
    "    else:\n",
    "        return f\"{year-1}-{year}\"\n",
    "\n",
    "\n",
    "df['Season'] = df['Date'].apply(get_season)\n",
    "\n"
   ]
  },
  {
   "cell_type": "code",
   "execution_count": 21,
   "id": "482ff7f6",
   "metadata": {},
   "outputs": [
    {
     "name": "stdout",
     "output_type": "stream",
     "text": [
      "6267 of 11600 records removed\n"
     ]
    }
   ],
   "source": [
    "#Remove irrelevant pages, i.e. pages where both the production and the date of performance are missing\n",
    "\n",
    "old_len = len(df)\n",
    "df2 = df.dropna(subset=['Production','Date'])\n",
    "print(f'{old_len - len(df2)} of {old_len} records removed')\n",
    "\n"
   ]
  },
  {
   "cell_type": "code",
   "execution_count": 22,
   "id": "c7cfc487",
   "metadata": {},
   "outputs": [
    {
     "name": "stdout",
     "output_type": "stream",
     "text": [
      "892 of 5333 records removed! 4441 records remain\n"
     ]
    }
   ],
   "source": [
    "#Remove duplicate, i.e. cases in which the production and date are the same.\n",
    "\n",
    "all_dups = len(df2)\n",
    "df2 = df2.drop_duplicates(subset=['Production', 'Date'])\n",
    "print(f'{all_dups - len(df2)} of {all_dups} records removed! {len(df2)} records remain')\n"
   ]
  },
  {
   "cell_type": "code",
   "execution_count": 25,
   "id": "b484ca9f",
   "metadata": {},
   "outputs": [
    {
     "data": {
      "image/png": "[encoded data removed]",
      "text/plain": [
       "<Figure size 640x480 with 1 Axes>"
      ]
     },
     "metadata": {},
     "output_type": "display_data"
    }
   ],
   "source": [
    "import matplotlib.pyplot as plt\n",
    "\n",
    "fig, ax = plt.subplots()\n",
    "\n",
    "counts1 = df['Collection'].value_counts()[df2['Collection'].unique()].sort_index()\n",
    "counts2 = df2['Collection'].value_counts().sort_index()\n",
    "\n",
    "counts2.loc['1914-1915'] = 0\n",
    "counts2.loc['1915-1916'] = 0\n",
    "counts2.loc['1916-1917'] = 0\n",
    "counts2.loc['1917-1918'] = 0\n",
    "counts2.loc['1920-1921'] = 0\n",
    "\n",
    "counts2 = counts2.sort_index()\n",
    "x2 = counts2.index\n",
    "y2 = counts2.values\n",
    "\n",
    "# Sorting the index to ensure correct order of data points in the bar plot\n",
    "counts1.loc['1914-1915'] = 0\n",
    "counts1.loc['1915-1916'] = 0\n",
    "counts1.loc['1916-1917'] = 0\n",
    "counts1.loc['1917-1918'] = 0\n",
    "counts1.loc['1920-1921'] = 0\n",
    "\n",
    "counts1 = counts1.sort_index()\n",
    "\n",
    "# Generate x and y data for the bar plot\n",
    "x = counts1.index\n",
    "y = counts1.values\n",
    "\n",
    "# Plotting the bar plots\n",
    "ax.bar(x, y, color='palevioletred', label='No. of images before preprocessing')\n",
    "ax.bar(x2, y2, color='slategrey', label='No. of performances after preprocessing')\n",
    "\n",
    "# Adding ticks and labels to the x-axis\n",
    "ax.set_xticks(range(len(x)))\n",
    "ax.set_xticklabels(x, rotation=-90)\n",
    "\n",
    "# Adding labels and title\n",
    "ax.set_xlabel('Season')\n",
    "ax.set_ylabel('Count')\n",
    "ax.set_title('Collections before and after preprocessing')\n",
    "\n",
    "# Display the bar plots\n",
    "plt.legend()\n",
    "plt.show()\n"
   ]
  },
  {
   "cell_type": "code",
   "execution_count": null,
   "id": "d80a242a",
   "metadata": {},
   "outputs": [],
   "source": [
    "#df wordt opgeslagen.\n",
    "#df2.to_csv('../Materials/KVO_META.csv', encoding = 'utf-8')"
   ]
  },
  {
   "cell_type": "code",
   "execution_count": null,
   "id": "7ff2aba9",
   "metadata": {},
   "outputs": [],
   "source": []
  }
 ],
 "metadata": {
  "kernelspec": {
   "display_name": "Python 3.9.13 ('base')",
   "language": "python",
   "name": "python3"
  },
  "language_info": {
   "codemirror_mode": {
    "name": "ipython",
    "version": 3
   },
   "file_extension": ".py",
   "mimetype": "text/x-python",
   "name": "python",
   "nbconvert_exporter": "python",
   "pygments_lexer": "ipython3",
   "version": "3.11.2"
  },
  "vscode": {
   "interpreter": {
    "hash": "96e0a4d32f1918f770291244863a4a1e044b05d1a3b8d455e2e179187e01062a"
   }
  }
 },
 "nbformat": 4,
 "nbformat_minor": 5
}
