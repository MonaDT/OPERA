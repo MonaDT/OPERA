{
 "cells": [
  {
   "attachments": {},
   "cell_type": "markdown",
   "id": "9e06eef4",
   "metadata": {},
   "source": [
    "# "
   ]
  },
  {
   "cell_type": "code",
   "execution_count": 12,
   "id": "1ed40c58",
   "metadata": {},
   "outputs": [],
   "source": [
    "from PIL import Image\n",
    "import image\n",
    "import numpy as np\n",
    "\n",
    "image=Image.open('C:/Users/monaa/Dropbox/Thesis/Primair/1930-1931/1930-1931_00048-20220209_144930.jpg')\n",
    "image.load()\n",
    "\n",
    "image_data = np.asarray(image)\n",
    "image_data_bw = image_data.max(axis=2)\n",
    "non_empty_columns = np.where(image_data_bw.max(axis=0)>0)[0]\n",
    "non_empty_rows = np.where(image_data_bw.max(axis=1)>0)[0]\n",
    "cropBox = (min(non_empty_rows), max(non_empty_rows), min(non_empty_columns), max(non_empty_columns))\n",
    "\n",
    "image_data_new = image_data[cropBox[0]:cropBox[1]+1, cropBox[2]:cropBox[3]+1 , :]\n",
    "\n",
    "new_image = Image.fromarray(image_data_new)\n",
    "new_image.save('L_2d_cropped.png')"
   ]
  },
  {
   "cell_type": "code",
   "execution_count": 7,
   "id": "018414dd",
   "metadata": {},
   "outputs": [
    {
     "name": "stdout",
     "output_type": "stream",
     "text": [
      "100 38 1714 2373\n"
     ]
    }
   ],
   "source": [
    "import cv2\n",
    "import numpy as np\n",
    "import image\n",
    "import os\n",
    "\n",
    "# test foto\n",
    "img = cv2.imread(r'K.V.O. programmas 1893-97_00004-20211201_113346.jpg')\n",
    "\n",
    "# get color bounds of white region\n",
    "lower =(180,180,180) # lower bound for each channel\n",
    "upper = (255,255,255) # upper bound for each channel\n",
    "threshold = cv2.inRange(img, lower, upper)\n",
    "\n",
    "# get the largest contour\n",
    "contours = cv2.findContours(threshold, cv2.RETR_EXTERNAL, cv2.CHAIN_APPROX_SIMPLE)\n",
    "contours = contours[0] if len(contours) == 2 else contours[1]\n",
    "big_contour = max(contours, key=cv2.contourArea)\n",
    "\n",
    "# get bounding box\n",
    "x,y,w,h = cv2.boundingRect(big_contour)\n",
    "print(x,y,w,h)\n",
    "\n",
    "# crop the image at the bounds\n",
    "crop = img[y:y+h, x:x+w]\n",
    "\n",
    "# display it\n",
    "cv2.imshow(\"crop\", crop)\n",
    "cv2.waitKey(0)\n",
    "\n"
   ]
  },
  {
   "cell_type": "code",
   "execution_count": 39,
   "id": "bc9085aa",
   "metadata": {},
   "outputs": [],
   "source": [
    "#Gooi het in een for-loop\n",
    "\n",
    "directory = 'C:/Users/monaa/Dropbox/Thesis/Primair/1930-1931'\n",
    "\n",
    "# iterate over files in that directory\n",
    "for img in os.listdir(directory):\n",
    "    \n",
    "    img = cv2.imread('C:/Users/monaa/Dropbox/Thesis/Primair/1930-1931/'+str(img))\n",
    "    \n",
    "    \n",
    "    lower = (180,180,180) # lower bound for each channel\n",
    "    upper = (255,255,255) # upper bound for each channel\n",
    "\n",
    "    threshold = cv2.inRange(img, lower, upper)\n",
    "\n",
    "    contours = cv2.findContours(threshold, cv2.RETR_EXTERNAL, cv2.CHAIN_APPROX_SIMPLE)\n",
    "    contours = contours[0] if len(contours) == 2 else contours[1]\n",
    "    big_contour = max(contours, key=cv2.contourArea)\n",
    "\n",
    "\n",
    "    x,y,w,h = cv2.boundingRect(big_contour)\n",
    "\n",
    "\n",
    "    # crop the image at the bounds\n",
    "    crop = img[y:y+h, x:x+w]\n",
    "\n",
    "    # opslaan onder nieuwe naam zodat fouten manueel nog kunnen afgehandeld worden.\n",
    "    cv2.imwrite('c'+str(img)+'.jpg', threshold)\n",
    "    cv2.imwrite('c'+str(img)+'.jpg', crop)\n",
    "    "
   ]
  },
  {
   "cell_type": "code",
   "execution_count": null,
   "id": "03162d56",
   "metadata": {},
   "outputs": [],
   "source": []
  }
 ],
 "metadata": {
  "kernelspec": {
   "display_name": "Python 3 (ipykernel)",
   "language": "python",
   "name": "python3"
  },
  "language_info": {
   "codemirror_mode": {
    "name": "ipython",
    "version": 3
   },
   "file_extension": ".py",
   "mimetype": "text/x-python",
   "name": "python",
   "nbconvert_exporter": "python",
   "pygments_lexer": "ipython3",
   "version": "3.9.13"
  }
 },
 "nbformat": 4,
 "nbformat_minor": 5
}
