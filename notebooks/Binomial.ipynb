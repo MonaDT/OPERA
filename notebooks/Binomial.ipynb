{
 "cells": [
  {
   "cell_type": "code",
   "execution_count": 15,
   "metadata": {
    "vscode": {
     "languageId": "r"
    }
   },
   "outputs": [],
   "source": [
    "df <- read.delim('../Materials/Binomial_prep.csv', sep=',', header=TRUE)"
   ]
  },
  {
   "cell_type": "code",
   "execution_count": 16,
   "metadata": {
    "vscode": {
     "languageId": "r"
    }
   },
   "outputs": [
    {
     "data": {
      "text/html": [
       "<table>\n",
       "<thead><tr><th scope=col>ï..Collection</th><th scope=col>Normalised.title</th><th scope=col>Composer</th><th scope=col>Occasion</th><th scope=col>Dutch</th></tr></thead>\n",
       "<tbody>\n",
       "\t<tr><td>1893-1897           </td><td>De Vrijschutter     </td><td>Carl Maria von Weber</td><td>N                   </td><td>1                   </td></tr>\n",
       "\t<tr><td>1893-1897           </td><td>Willem Tell         </td><td>Carl Reinecke       </td><td>N                   </td><td>1                   </td></tr>\n",
       "\t<tr><td>1893-1897           </td><td>De Vrijschutter     </td><td>Carl Maria von Weber</td><td>N                   </td><td>1                   </td></tr>\n",
       "\t<tr><td>1893-1897           </td><td>Willem Tell         </td><td>Carl Reinecke       </td><td>N                   </td><td>1                   </td></tr>\n",
       "\t<tr><td>1893-1897           </td><td>Charlotte Corday    </td><td>Peter Benoit        </td><td>N                   </td><td>2                   </td></tr>\n",
       "\t<tr><td>1893-1897           </td><td>De Vrijschutter     </td><td>Carl Maria von Weber</td><td>N                   </td><td>1                   </td></tr>\n",
       "</tbody>\n",
       "</table>\n"
      ],
      "text/latex": [
       "\\begin{tabular}{r|lllll}\n",
       " ï..Collection & Normalised.title & Composer & Occasion & Dutch\\\\\n",
       "\\hline\n",
       "\t 1893-1897            & De Vrijschutter      & Carl Maria von Weber & N                    & 1                   \\\\\n",
       "\t 1893-1897            & Willem Tell          & Carl Reinecke        & N                    & 1                   \\\\\n",
       "\t 1893-1897            & De Vrijschutter      & Carl Maria von Weber & N                    & 1                   \\\\\n",
       "\t 1893-1897            & Willem Tell          & Carl Reinecke        & N                    & 1                   \\\\\n",
       "\t 1893-1897            & Charlotte Corday     & Peter Benoit         & N                    & 2                   \\\\\n",
       "\t 1893-1897            & De Vrijschutter      & Carl Maria von Weber & N                    & 1                   \\\\\n",
       "\\end{tabular}\n"
      ],
      "text/markdown": [
       "\n",
       "| ï..Collection | Normalised.title | Composer | Occasion | Dutch |\n",
       "|---|---|---|---|---|\n",
       "| 1893-1897            | De Vrijschutter      | Carl Maria von Weber | N                    | 1                    |\n",
       "| 1893-1897            | Willem Tell          | Carl Reinecke        | N                    | 1                    |\n",
       "| 1893-1897            | De Vrijschutter      | Carl Maria von Weber | N                    | 1                    |\n",
       "| 1893-1897            | Willem Tell          | Carl Reinecke        | N                    | 1                    |\n",
       "| 1893-1897            | Charlotte Corday     | Peter Benoit         | N                    | 2                    |\n",
       "| 1893-1897            | De Vrijschutter      | Carl Maria von Weber | N                    | 1                    |\n",
       "\n"
      ],
      "text/plain": [
       "  ï..Collection Normalised.title Composer             Occasion Dutch\n",
       "1 1893-1897     De Vrijschutter  Carl Maria von Weber N        1    \n",
       "2 1893-1897     Willem Tell      Carl Reinecke        N        1    \n",
       "3 1893-1897     De Vrijschutter  Carl Maria von Weber N        1    \n",
       "4 1893-1897     Willem Tell      Carl Reinecke        N        1    \n",
       "5 1893-1897     Charlotte Corday Peter Benoit         N        2    \n",
       "6 1893-1897     De Vrijschutter  Carl Maria von Weber N        1    "
      ]
     },
     "metadata": {},
     "output_type": "display_data"
    }
   ],
   "source": [
    "df$Dutch <- as.integer(df$Dutch)\n",
    "head(df)"
   ]
  },
  {
   "cell_type": "code",
   "execution_count": null,
   "metadata": {
    "vscode": {
     "languageId": "r"
    }
   },
   "outputs": [],
   "source": []
  }
 ],
 "metadata": {
  "kernelspec": {
   "display_name": "R",
   "language": "R",
   "name": "ir"
  },
  "language_info": {
   "name": "R"
  },
  "orig_nbformat": 4
 },
 "nbformat": 4,
 "nbformat_minor": 2
}
