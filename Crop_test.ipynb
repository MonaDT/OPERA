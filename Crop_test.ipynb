{
 "cells": [
  {
   "cell_type": "code",
   "execution_count": 9,
   "id": "3e2f2126",
   "metadata": {},
   "outputs": [
    {
     "name": "stdout",
     "output_type": "stream",
     "text": [
      "Requirement already satisfied: Image in c:\\users\\monaa\\anaconda3\\lib\\site-packages (1.5.33)\n",
      "Requirement already satisfied: pillow in c:\\users\\monaa\\anaconda3\\lib\\site-packages (from Image) (9.2.0)\n",
      "Requirement already satisfied: django in c:\\users\\monaa\\anaconda3\\lib\\site-packages (from Image) (4.1.2)\n",
      "Requirement already satisfied: six in c:\\users\\monaa\\anaconda3\\lib\\site-packages (from Image) (1.16.0)\n",
      "Requirement already satisfied: sqlparse>=0.2.2 in c:\\users\\monaa\\anaconda3\\lib\\site-packages (from django->Image) (0.4.3)\n",
      "Requirement already satisfied: asgiref<4,>=3.5.2 in c:\\users\\monaa\\anaconda3\\lib\\site-packages (from django->Image) (3.5.2)\n",
      "Requirement already satisfied: tzdata in c:\\users\\monaa\\anaconda3\\lib\\site-packages (from django->Image) (2022.5)\n",
      "Note: you may need to restart the kernel to use updated packages.\n"
     ]
    }
   ],
   "source": [
    "pip install Image"
   ]
  },
  {
   "cell_type": "code",
   "execution_count": 2,
   "id": "621e7512",
   "metadata": {},
   "outputs": [
    {
     "name": "stdout",
     "output_type": "stream",
     "text": [
      "Requirement already satisfied: numpy in c:\\users\\monaa\\anaconda3\\lib\\site-packages (1.21.5)Note: you may need to restart the kernel to use updated packages.\n",
      "\n"
     ]
    }
   ],
   "source": [
    "pip install numpy"
   ]
  },
  {
   "cell_type": "code",
   "execution_count": 10,
   "id": "54a7e423",
   "metadata": {},
   "outputs": [],
   "source": [
    "from PIL import Image"
   ]
  },
  {
   "cell_type": "code",
   "execution_count": 12,
   "id": "1ed40c58",
   "metadata": {},
   "outputs": [],
   "source": [
    "import image\n",
    "import numpy as np\n",
    "\n",
    "image=Image.open('C:/Users/monaa/Dropbox/Thesis/Primair/1930-1931/1930-1931_00048-20220209_144930.jpg')\n",
    "image.load()\n",
    "\n",
    "image_data = np.asarray(image)\n",
    "image_data_bw = image_data.max(axis=2)\n",
    "non_empty_columns = np.where(image_data_bw.max(axis=0)>0)[0]\n",
    "non_empty_rows = np.where(image_data_bw.max(axis=1)>0)[0]\n",
    "cropBox = (min(non_empty_rows), max(non_empty_rows), min(non_empty_columns), max(non_empty_columns))\n",
    "\n",
    "image_data_new = image_data[cropBox[0]:cropBox[1]+1, cropBox[2]:cropBox[3]+1 , :]\n",
    "\n",
    "new_image = Image.fromarray(image_data_new)\n",
    "new_image.save('L_2d_cropped.png')"
   ]
  },
  {
   "cell_type": "code",
   "execution_count": 1,
   "id": "82bb99c7",
   "metadata": {},
   "outputs": [
    {
     "name": "stdout",
     "output_type": "stream",
     "text": [
      "Note: you may need to restart the kernel to use updated packages.\n"
     ]
    },
    {
     "name": "stderr",
     "output_type": "stream",
     "text": [
      "ERROR: Could not find a version that satisfies the requirement cv2 (from versions: none)\n",
      "ERROR: No matching distribution found for cv2\n"
     ]
    }
   ],
   "source": [
    "pip install cv2"
   ]
  },
  {
   "cell_type": "code",
   "execution_count": 4,
   "id": "e582ff9e",
   "metadata": {},
   "outputs": [
    {
     "name": "stdout",
     "output_type": "stream",
     "text": [
      "Collecting opencv-python\n",
      "  Downloading opencv_python-4.6.0.66-cp36-abi3-win_amd64.whl (35.6 MB)\n",
      "     ---------------------------------------- 35.6/35.6 MB 6.7 MB/s eta 0:00:00\n",
      "Requirement already satisfied: numpy>=1.14.5 in c:\\users\\monaa\\anaconda3\\lib\\site-packages (from opencv-python) (1.21.5)\n",
      "Installing collected packages: opencv-python\n",
      "Successfully installed opencv-python-4.6.0.66\n",
      "Note: you may need to restart the kernel to use updated packages.\n"
     ]
    }
   ],
   "source": [
    "pip install opencv-python"
   ]
  },
  {
   "cell_type": "code",
   "execution_count": 17,
   "id": "018414dd",
   "metadata": {},
   "outputs": [
    {
     "name": "stdout",
     "output_type": "stream",
     "text": [
      "589 1129 1288 1903\n"
     ]
    },
    {
     "data": {
      "text/plain": [
       "-1"
      ]
     },
     "execution_count": 17,
     "metadata": {},
     "output_type": "execute_result"
    }
   ],
   "source": [
    "import cv2\n",
    "import numpy as np\n",
    "import image\n",
    "\n",
    "# load image\n",
    "img = cv2.imread('C:/Users/monaa/Dropbox/Thesis/Primair/1930-1931/1930-1931_00048-20220209_144930.jpg')\n",
    "\n",
    "# get color bounds of white region\n",
    "lower =(180,180,180) # lower bound for each channel\n",
    "upper = (255,255,255) # upper bound for each channel\n",
    "\n",
    "# threshold\n",
    "threshold = cv2.inRange(img, lower, upper)\n",
    "\n",
    "# get the largest contour\n",
    "contours = cv2.findContours(threshold, cv2.RETR_EXTERNAL, cv2.CHAIN_APPROX_SIMPLE)\n",
    "contours = contours[0] if len(contours) == 2 else contours[1]\n",
    "big_contour = max(contours, key=cv2.contourArea)\n",
    "\n",
    "# get bounding box\n",
    "x,y,w,h = cv2.boundingRect(big_contour)\n",
    "print(x,y,w,h)\n",
    "\n",
    "\n",
    "# crop the image at the bounds\n",
    "crop = img[y:y+h, x:x+w]\n",
    "\n",
    "# write result to disk\n",
    "cv2.imwrite(\"screen_threshold.jpg\", threshold)\n",
    "cv2.imwrite(\"screen_cropped.jpg\", crop)\n",
    "\n",
    "# display it\n",
    "cv2.imshow(\"threshold\", threshold)\n",
    "cv2.imshow(\"crop\", crop)\n",
    "cv2.waitKey(0)"
   ]
  },
  {
   "cell_type": "code",
   "execution_count": 39,
   "id": "bc9085aa",
   "metadata": {},
   "outputs": [],
   "source": [
    "import os\n",
    "\n",
    "# assign directory\n",
    "directory = 'C:/Users/monaa/Dropbox/Thesis/Primair/1930-1931'\n",
    "\n",
    "# iterate over files in that directory\n",
    "for img in os.listdir(directory):\n",
    "    \n",
    "    img = cv2.imread('C:/Users/monaa/Dropbox/Thesis/Primair/1930-1931/'+str(img))\n",
    "    \n",
    "     # get color bounds of white region\n",
    "    lower = (180,180,180) # lower bound for each channel\n",
    "    upper = (255,255,255) # upper bound for each channel\n",
    "\n",
    "    # threshold\n",
    "    threshold = cv2.inRange(img, lower, upper)\n",
    "\n",
    "    # get the largest contour\n",
    "    contours = cv2.findContours(threshold, cv2.RETR_EXTERNAL, cv2.CHAIN_APPROX_SIMPLE)\n",
    "    contours = contours[0] if len(contours) == 2 else contours[1]\n",
    "    big_contour = max(contours, key=cv2.contourArea)\n",
    "\n",
    "    # get bounding box\n",
    "    x,y,w,h = cv2.boundingRect(big_contour)\n",
    "    #print(x,y,w,h)\n",
    "\n",
    "\n",
    "    # crop the image at the bounds\n",
    "    crop = img[y:y+h, x:x+w]\n",
    "\n",
    "    # write result to disk\n",
    "    cv2.imwrite('c'+str(img)+'.jpg', threshold)\n",
    "    cv2.imwrite('c'+str(img)+'.jpg', crop)\n",
    "    "
   ]
  },
  {
   "cell_type": "code",
   "execution_count": null,
   "id": "03162d56",
   "metadata": {},
   "outputs": [],
   "source": []
  }
 ],
 "metadata": {
  "kernelspec": {
   "display_name": "Python 3 (ipykernel)",
   "language": "python",
   "name": "python3"
  },
  "language_info": {
   "codemirror_mode": {
    "name": "ipython",
    "version": 3
   },
   "file_extension": ".py",
   "mimetype": "text/x-python",
   "name": "python",
   "nbconvert_exporter": "python",
   "pygments_lexer": "ipython3",
   "version": "3.9.13"
  }
 },
 "nbformat": 4,
 "nbformat_minor": 5
}
