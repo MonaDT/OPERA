{
 "cells": [
  {
   "attachments": {},
   "cell_type": "markdown",
   "metadata": {},
   "source": [
    "# Preliminary Data exploration"
   ]
  },
  {
   "attachments": {},
   "cell_type": "markdown",
   "metadata": {},
   "source": [
    "Dataset met alle metadata en preprocessing steps binnenhalen."
   ]
  },
  {
   "cell_type": "code",
   "execution_count": 58,
   "metadata": {},
   "outputs": [],
   "source": [
    "import pandas as pd\n",
    "\n",
    "df = pd.read_csv(\"../Materials/KVO_META.csv\", encoding='utf8', index_col=False)\n"
   ]
  },
  {
   "cell_type": "code",
   "execution_count": 59,
   "metadata": {},
   "outputs": [],
   "source": [
    "for column in df.columns:\n",
    "    try:\n",
    "        df[column] = df[column].str.strip()\n",
    "    except AttributeError:\n",
    "        continue"
   ]
  },
  {
   "cell_type": "code",
   "execution_count": 60,
   "metadata": {},
   "outputs": [],
   "source": [
    "df = df.set_index('Collection')"
   ]
  },
  {
   "cell_type": "code",
   "execution_count": 61,
   "metadata": {},
   "outputs": [
    {
     "data": {
      "text/html": [
       "<div>\n",
       "<style scoped>\n",
       "    .dataframe tbody tr th:only-of-type {\n",
       "        vertical-align: middle;\n",
       "    }\n",
       "\n",
       "    .dataframe tbody tr th {\n",
       "        vertical-align: top;\n",
       "    }\n",
       "\n",
       "    .dataframe thead th {\n",
       "        text-align: right;\n",
       "    }\n",
       "</style>\n",
       "<table border=\"1\" class=\"dataframe\">\n",
       "  <thead>\n",
       "    <tr style=\"text-align: right;\">\n",
       "      <th></th>\n",
       "      <th>Normalised title</th>\n",
       "      <th>Composer</th>\n",
       "      <th>Occasion</th>\n",
       "      <th>Original language</th>\n",
       "    </tr>\n",
       "    <tr>\n",
       "      <th>Collection</th>\n",
       "      <th></th>\n",
       "      <th></th>\n",
       "      <th></th>\n",
       "      <th></th>\n",
       "    </tr>\n",
       "  </thead>\n",
       "  <tbody>\n",
       "    <tr>\n",
       "      <th>1930-1931</th>\n",
       "      <td>Het Mirakel</td>\n",
       "      <td>Engelbert Humperdinck</td>\n",
       "      <td>NaN</td>\n",
       "      <td>DUI</td>\n",
       "    </tr>\n",
       "    <tr>\n",
       "      <th>1927-1928</th>\n",
       "      <td>De Verkochte Bruid</td>\n",
       "      <td>Bedrich\\tSmetana</td>\n",
       "      <td>NaN</td>\n",
       "      <td>TSJ</td>\n",
       "    </tr>\n",
       "    <tr>\n",
       "      <th>1893-1897</th>\n",
       "      <td>Tannhauser</td>\n",
       "      <td>Richard Wagner</td>\n",
       "      <td>Volgens de nota van Verbruggen is deze voorste...</td>\n",
       "      <td>DUI</td>\n",
       "    </tr>\n",
       "    <tr>\n",
       "      <th>1909-1910</th>\n",
       "      <td>Oedipus</td>\n",
       "      <td>Antonio Sacchini</td>\n",
       "      <td>NaN</td>\n",
       "      <td>FR</td>\n",
       "    </tr>\n",
       "    <tr>\n",
       "      <th>1924-1925</th>\n",
       "      <td>De Legende van Sakuntala</td>\n",
       "      <td>Franco Alfano</td>\n",
       "      <td>NaN</td>\n",
       "      <td>ITA</td>\n",
       "    </tr>\n",
       "  </tbody>\n",
       "</table>\n",
       "</div>"
      ],
      "text/plain": [
       "                    Normalised title               Composer  \\\n",
       "Collection                                                    \n",
       "1930-1931                Het Mirakel  Engelbert Humperdinck   \n",
       "1927-1928         De Verkochte Bruid       Bedrich\\tSmetana   \n",
       "1893-1897                 Tannhauser         Richard Wagner   \n",
       "1909-1910                    Oedipus       Antonio Sacchini   \n",
       "1924-1925   De Legende van Sakuntala          Franco Alfano   \n",
       "\n",
       "                                                     Occasion  \\\n",
       "Collection                                                      \n",
       "1930-1931                                                 NaN   \n",
       "1927-1928                                                 NaN   \n",
       "1893-1897   Volgens de nota van Verbruggen is deze voorste...   \n",
       "1909-1910                                                 NaN   \n",
       "1924-1925                                                 NaN   \n",
       "\n",
       "           Original language  \n",
       "Collection                    \n",
       "1930-1931                DUI  \n",
       "1927-1928                TSJ  \n",
       "1893-1897                DUI  \n",
       "1909-1910                 FR  \n",
       "1924-1925                ITA  "
      ]
     },
     "execution_count": 61,
     "metadata": {},
     "output_type": "execute_result"
    }
   ],
   "source": [
    "#Only keep the relevant columns\n",
    "df = df[['Normalised title', 'Composer', 'Occasion', 'Original language']]\n",
    "df.sample(5)"
   ]
  },
  {
   "cell_type": "code",
   "execution_count": 53,
   "metadata": {},
   "outputs": [
    {
     "data": {
      "text/plain": [
       "N    3966\n",
       "G     463\n",
       "P      41\n",
       "Name: OCC, dtype: int64"
      ]
     },
     "execution_count": 53,
     "metadata": {},
     "output_type": "execute_result"
    }
   ],
   "source": [
    "#Create a new column in which we keep track of: \n",
    "#   the Gala performances (G)\n",
    "#   the popular peformances (P)\n",
    "#   all others (N)\n",
    "\n",
    "df['Occasion'] = df['Occasion'].str.lower()\n",
    "df['OCC'] = df['Occasion'].astype(str).apply(lambda x: 'G' if 'gala' in x else 'P' if 'volk' in x.lower() else 'N')\n",
    "df['OCC'].value_counts()"
   ]
  },
  {
   "cell_type": "code",
   "execution_count": 54,
   "metadata": {},
   "outputs": [
    {
     "data": {
      "text/plain": [
       "False    3549\n",
       "True      921\n",
       "Name: Dutch, dtype: int64"
      ]
     },
     "execution_count": 54,
     "metadata": {},
     "output_type": "execute_result"
    }
   ],
   "source": [
    "#Create boolean column for original Dutch performances (True) and others (False)\n",
    "df['Dutch'] = df['Original language'].astype(str).apply(lambda x: 'True' if 'NL' in x else 'False')\n",
    "df['Dutch'].value_counts()"
   ]
  },
  {
   "cell_type": "code",
   "execution_count": 62,
   "metadata": {},
   "outputs": [],
   "source": [
    "#Drop irrelevant columns, and rename occasion column.\n",
    "df.drop(['Occasion', 'Original language'], axis='columns', inplace=True)\n",
    "df.rename(columns={\"OCC\": \"Occasion\"}, inplace=True)\n",
    "df.head()"
   ]
  },
  {
   "cell_type": "code",
   "execution_count": 63,
   "metadata": {},
   "outputs": [],
   "source": [
    "#export the dataframe"
   ]
  },
  {
   "cell_type": "code",
   "execution_count": 64,
   "metadata": {},
   "outputs": [],
   "source": [
    "#df.to_csv('Binomial_prep.csv', index = False, encoding = 'utf-8-sig')"
   ]
  },
  {
   "cell_type": "code",
   "execution_count": null,
   "metadata": {},
   "outputs": [],
   "source": []
  }
 ],
 "metadata": {
  "kernelspec": {
   "display_name": "base",
   "language": "python",
   "name": "python3"
  },
  "language_info": {
   "codemirror_mode": {
    "name": "ipython",
    "version": 3
   },
   "file_extension": ".py",
   "mimetype": "text/x-python",
   "name": "python",
   "nbconvert_exporter": "python",
   "pygments_lexer": "ipython3",
   "version": "3.9.13"
  },
  "orig_nbformat": 4,
  "vscode": {
   "interpreter": {
    "hash": "96e0a4d32f1918f770291244863a4a1e044b05d1a3b8d455e2e179187e01062a"
   }
  }
 },
 "nbformat": 4,
 "nbformat_minor": 2
}
