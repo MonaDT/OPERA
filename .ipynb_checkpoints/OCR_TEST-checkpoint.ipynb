{
 "cells": [
  {
   "cell_type": "code",
   "execution_count": 56,
   "id": "b3e257b0",
   "metadata": {},
   "outputs": [],
   "source": [
    "#pip install Pillow\n",
    "#pip install pytesseract"
   ]
  },
  {
   "cell_type": "code",
   "execution_count": 57,
   "id": "dd1b9372",
   "metadata": {},
   "outputs": [],
   "source": [
    "import pytesseract"
   ]
  },
  {
   "cell_type": "code",
   "execution_count": 58,
   "id": "313cc6ef",
   "metadata": {},
   "outputs": [],
   "source": [
    "pytesseract.pytesseract.tesseract_cmd = r\"C:\\Program Files (x86)\\Tesseract-OCR\\tesseract.exe\""
   ]
  },
  {
   "cell_type": "code",
   "execution_count": 65,
   "id": "63082302",
   "metadata": {},
   "outputs": [],
   "source": [
    "# Python program to extract text from all the images in a folder\n",
    "# storing the text in corresponding files in a different folder\n",
    "import cv2\n",
    "from PIL import Image\n",
    "import pytesseract as pt\n",
    "import os\n",
    "import numpy as np\n",
    "#import cv2norm_img = np.zeros((img.shape[0], img.shape[1]))\n",
    "\n",
    "def main(image_path, output):\n",
    "    try:\n",
    "\n",
    "        for imageName in os.listdir(image_path):\n",
    "\n",
    "            inputPath = os.path.join(image_path, imageName)\n",
    "            img = Image.open(inputPath)\n",
    "\n",
    "            # applying ocr using pytesseract for python\n",
    "            text = pt.image_to_string(img, lang =\"nld\")\n",
    "\n",
    "            # for removing the .jpg from the imagePath\n",
    "            imagePath = imageName[0:-4]\n",
    "\n",
    "            fullTempPath = os.path.join(output, 'time_'+imageName+\".txt\")\n",
    "            print(text)\n",
    "\n",
    "            # saving the text for every image in a separate .txt file\n",
    "            file1 = open(fullTempPath, \"w\")\n",
    "            file1.write(text)\n",
    "            file1.close()\n",
    "    except (UnicodeEncodeError):\n",
    "        print(f'error in {imagePath}')\n",
    "\n"
   ]
  },
  {
   "cell_type": "code",
   "execution_count": 66,
   "id": "72571148",
   "metadata": {},
   "outputs": [],
   "source": [
    "directory = r'C:/Users/monaa/Dropbox/Thesis/Primair/1893-1897'\n",
    "output = r'C:/Users/monaa/Dropbox/Thesis/Primair/1893-1897/output_test'"
   ]
  },
  {
   "cell_type": "code",
   "execution_count": 67,
   "id": "6a64fc5d",
   "metadata": {
    "scrolled": true
   },
   "outputs": [
    {
     "ename": "error",
     "evalue": "OpenCV(4.6.0) :-1: error: (-5:Bad argument) in function 'threshold'\n> Overload resolution failed:\n>  - src is not a numpy array, neither a scalar\n>  - Expected Ptr<cv::UMat> for argument 'src'\n",
     "output_type": "error",
     "traceback": [
      "\u001b[1;31m---------------------------------------------------------------------------\u001b[0m",
      "\u001b[1;31merror\u001b[0m                                     Traceback (most recent call last)",
      "\u001b[1;32m~\\AppData\\Local\\Temp\\ipykernel_11956\\3777200187.py\u001b[0m in \u001b[0;36m<module>\u001b[1;34m\u001b[0m\n\u001b[1;32m----> 1\u001b[1;33m \u001b[0mmain\u001b[0m\u001b[1;33m(\u001b[0m\u001b[0mdirectory\u001b[0m\u001b[1;33m,\u001b[0m \u001b[0moutput\u001b[0m\u001b[1;33m)\u001b[0m\u001b[1;33m\u001b[0m\u001b[1;33m\u001b[0m\u001b[0m\n\u001b[0m",
      "\u001b[1;32m~\\AppData\\Local\\Temp\\ipykernel_11956\\2086647388.py\u001b[0m in \u001b[0;36mmain\u001b[1;34m(image_path, output)\u001b[0m\n\u001b[0;32m     17\u001b[0m \u001b[1;33m\u001b[0m\u001b[0m\n\u001b[0;32m     18\u001b[0m             \u001b[1;31m#img = cv2.normalize(img, norm_img, 0, 255, cv2.NORM_MINMAX)\u001b[0m\u001b[1;33m\u001b[0m\u001b[1;33m\u001b[0m\u001b[0m\n\u001b[1;32m---> 19\u001b[1;33m             \u001b[0mimg\u001b[0m \u001b[1;33m=\u001b[0m \u001b[0mcv2\u001b[0m\u001b[1;33m.\u001b[0m\u001b[0mthreshold\u001b[0m\u001b[1;33m(\u001b[0m\u001b[0mimg\u001b[0m\u001b[1;33m,\u001b[0m \u001b[1;36m100\u001b[0m\u001b[1;33m,\u001b[0m \u001b[1;36m255\u001b[0m\u001b[1;33m,\u001b[0m \u001b[0mcv2\u001b[0m\u001b[1;33m.\u001b[0m\u001b[0mTHRESH_BINARY\u001b[0m\u001b[1;33m)\u001b[0m\u001b[1;33m[\u001b[0m\u001b[1;36m1\u001b[0m\u001b[1;33m]\u001b[0m\u001b[1;33m\u001b[0m\u001b[1;33m\u001b[0m\u001b[0m\n\u001b[0m\u001b[0;32m     20\u001b[0m             \u001b[0mimg\u001b[0m \u001b[1;33m=\u001b[0m \u001b[0mcv2\u001b[0m\u001b[1;33m.\u001b[0m\u001b[0mGaussianBlur\u001b[0m\u001b[1;33m(\u001b[0m\u001b[0mimg\u001b[0m\u001b[1;33m,\u001b[0m \u001b[1;33m(\u001b[0m\u001b[1;36m1\u001b[0m\u001b[1;33m,\u001b[0m \u001b[1;36m1\u001b[0m\u001b[1;33m)\u001b[0m\u001b[1;33m,\u001b[0m \u001b[1;36m0\u001b[0m\u001b[1;33m)\u001b[0m\u001b[1;33m\u001b[0m\u001b[1;33m\u001b[0m\u001b[0m\n\u001b[0;32m     21\u001b[0m \u001b[1;33m\u001b[0m\u001b[0m\n",
      "\u001b[1;31merror\u001b[0m: OpenCV(4.6.0) :-1: error: (-5:Bad argument) in function 'threshold'\n> Overload resolution failed:\n>  - src is not a numpy array, neither a scalar\n>  - Expected Ptr<cv::UMat> for argument 'src'\n"
     ]
    }
   ],
   "source": [
    "main(directory, output)"
   ]
  },
  {
   "cell_type": "code",
   "execution_count": null,
   "id": "b981f9ee",
   "metadata": {},
   "outputs": [],
   "source": []
  }
 ],
 "metadata": {
  "kernelspec": {
   "display_name": "Python 3 (ipykernel)",
   "language": "python",
   "name": "python3"
  },
  "language_info": {
   "codemirror_mode": {
    "name": "ipython",
    "version": 3
   },
   "file_extension": ".py",
   "mimetype": "text/x-python",
   "name": "python",
   "nbconvert_exporter": "python",
   "pygments_lexer": "ipython3",
   "version": "3.9.13"
  }
 },
 "nbformat": 4,
 "nbformat_minor": 5
}
