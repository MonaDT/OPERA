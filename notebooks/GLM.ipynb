{
 "cells": [
  {
   "attachments": {},
   "cell_type": "markdown",
   "metadata": {},
   "source": [
    "# Modelling the language using a Generalized Linear Model"
   ]
  },
  {
   "cell_type": "code",
   "execution_count": 2,
   "metadata": {
    "vscode": {
     "languageId": "r"
    }
   },
   "outputs": [],
   "source": [
    "df <- read.delim('../Materials/Binomial_prep.csv', sep=',', header=TRUE)"
   ]
  },
  {
   "cell_type": "code",
   "execution_count": 3,
   "metadata": {
    "vscode": {
     "languageId": "r"
    }
   },
   "outputs": [
    {
     "name": "stderr",
     "output_type": "stream",
     "text": [
      "Loading required package: carData\n",
      "lattice theme set by effectsTheme()\n",
      "See ?effectsTheme for details.\n"
     ]
    }
   ],
   "source": [
    "library(effects)"
   ]
  },
  {
   "cell_type": "code",
   "execution_count": 4,
   "metadata": {
    "vscode": {
     "languageId": "r"
    }
   },
   "outputs": [
    {
     "data": {
      "text/html": [
       "<table>\n",
       "<thead><tr><th scope=col>ï..</th><th scope=col>Date</th><th scope=col>Original.premiere</th><th scope=col>Directors</th><th scope=col>Normalised.title</th><th scope=col>Composer</th><th scope=col>Multiple.bill</th><th scope=col>Multiple.bill.1</th><th scope=col>Season</th><th scope=col>Occasion</th><th scope=col>Language</th><th scope=col>Dutch</th><th scope=col>German</th></tr></thead>\n",
       "<tbody>\n",
       "\t<tr><td>0                                   </td><td>1893-10-03                          </td><td>1821                                </td><td>Edward Keurvels &amp; Henry Fontaine</td><td>De Vrijschutter                     </td><td>Carl Maria von Weber                </td><td>False                               </td><td>False                               </td><td>1893-1894                           </td><td>N                                   </td><td>German                              </td><td>0                                   </td><td>1                                   </td></tr>\n",
       "\t<tr><td>1                                                           </td><td>1893-10-05                                                  </td><td>1971                                                        </td><td>Edward Keurvels &amp; Henry Fontaine                        </td><td><span style=white-space:pre-wrap>Willem Tell     </span>    </td><td><span style=white-space:pre-wrap>Carl Reinecke       </span></td><td>False                                                       </td><td>False                                                       </td><td>1893-1894                                                   </td><td>N                                                           </td><td>German                                                      </td><td>0                                                           </td><td>1                                                           </td></tr>\n",
       "\t<tr><td>2                                   </td><td>1893-10-10                          </td><td>1821                                </td><td>Edward Keurvels &amp; Henry Fontaine</td><td>De Vrijschutter                     </td><td>Carl Maria von Weber                </td><td>False                               </td><td>False                               </td><td>1893-1894                           </td><td>N                                   </td><td>German                              </td><td>0                                   </td><td>1                                   </td></tr>\n",
       "\t<tr><td>3                                                           </td><td>1893-10-12                                                  </td><td>1971                                                        </td><td>Edward Keurvels &amp; Henry Fontaine                        </td><td><span style=white-space:pre-wrap>Willem Tell     </span>    </td><td><span style=white-space:pre-wrap>Carl Reinecke       </span></td><td>False                                                       </td><td>False                                                       </td><td>1893-1894                                                   </td><td>N                                                           </td><td>German                                                      </td><td>0                                                           </td><td>1                                                           </td></tr>\n",
       "\t<tr><td>4                                                           </td><td>1893-11-16                                                  </td><td><span style=white-space:pre-wrap>?   </span>                </td><td>Edward Keurvels &amp; Henry Fontaine                        </td><td>Charlotte Corday                                            </td><td><span style=white-space:pre-wrap>Peter Benoit        </span></td><td>False                                                       </td><td>False                                                       </td><td>1893-1894                                                   </td><td>N                                                           </td><td>Dutch                                                       </td><td>1                                                           </td><td>0                                                           </td></tr>\n",
       "\t<tr><td>5                                   </td><td>1893-10-17                          </td><td>1821                                </td><td>Edward Keurvels &amp; Henry Fontaine</td><td>De Vrijschutter                     </td><td>Carl Maria von Weber                </td><td>False                               </td><td>False                               </td><td>1893-1894                           </td><td>N                                   </td><td>German                              </td><td>0                                   </td><td>1                                   </td></tr>\n",
       "</tbody>\n",
       "</table>\n"
      ],
      "text/latex": [
       "\\begin{tabular}{r|lllllllllllll}\n",
       " ï.. & Date & Original.premiere & Directors & Normalised.title & Composer & Multiple.bill & Multiple.bill.1 & Season & Occasion & Language & Dutch & German\\\\\n",
       "\\hline\n",
       "\t 0                                  & 1893-10-03                         & 1821                               & Edward Keurvels \\& Henry Fontaine & De Vrijschutter                    & Carl Maria von Weber               & False                              & False                              & 1893-1894                          & N                                  & German                             & 0                                  & 1                                 \\\\\n",
       "\t 1                                  & 1893-10-05                         & 1971                               & Edward Keurvels \\& Henry Fontaine & Willem Tell                        & Carl Reinecke                      & False                              & False                              & 1893-1894                          & N                                  & German                             & 0                                  & 1                                 \\\\\n",
       "\t 2                                  & 1893-10-10                         & 1821                               & Edward Keurvels \\& Henry Fontaine & De Vrijschutter                    & Carl Maria von Weber               & False                              & False                              & 1893-1894                          & N                                  & German                             & 0                                  & 1                                 \\\\\n",
       "\t 3                                  & 1893-10-12                         & 1971                               & Edward Keurvels \\& Henry Fontaine & Willem Tell                        & Carl Reinecke                      & False                              & False                              & 1893-1894                          & N                                  & German                             & 0                                  & 1                                 \\\\\n",
       "\t 4                                  & 1893-11-16                         & ?                                  & Edward Keurvels \\& Henry Fontaine & Charlotte Corday                   & Peter Benoit                       & False                              & False                              & 1893-1894                          & N                                  & Dutch                              & 1                                  & 0                                 \\\\\n",
       "\t 5                                  & 1893-10-17                         & 1821                               & Edward Keurvels \\& Henry Fontaine & De Vrijschutter                    & Carl Maria von Weber               & False                              & False                              & 1893-1894                          & N                                  & German                             & 0                                  & 1                                 \\\\\n",
       "\\end{tabular}\n"
      ],
      "text/markdown": [
       "\n",
       "| ï.. | Date | Original.premiere | Directors | Normalised.title | Composer | Multiple.bill | Multiple.bill.1 | Season | Occasion | Language | Dutch | German |\n",
       "|---|---|---|---|---|---|---|---|---|---|---|---|---|\n",
       "| 0                                | 1893-10-03                       | 1821                             | Edward Keurvels & Henry Fontaine | De Vrijschutter                  | Carl Maria von Weber             | False                            | False                            | 1893-1894                        | N                                | German                           | 0                                | 1                                |\n",
       "| 1                                | 1893-10-05                       | 1971                             | Edward Keurvels & Henry Fontaine | Willem Tell                      | Carl Reinecke                    | False                            | False                            | 1893-1894                        | N                                | German                           | 0                                | 1                                |\n",
       "| 2                                | 1893-10-10                       | 1821                             | Edward Keurvels & Henry Fontaine | De Vrijschutter                  | Carl Maria von Weber             | False                            | False                            | 1893-1894                        | N                                | German                           | 0                                | 1                                |\n",
       "| 3                                | 1893-10-12                       | 1971                             | Edward Keurvels & Henry Fontaine | Willem Tell                      | Carl Reinecke                    | False                            | False                            | 1893-1894                        | N                                | German                           | 0                                | 1                                |\n",
       "| 4                                | 1893-11-16                       | ?                                | Edward Keurvels & Henry Fontaine | Charlotte Corday                 | Peter Benoit                     | False                            | False                            | 1893-1894                        | N                                | Dutch                            | 1                                | 0                                |\n",
       "| 5                                | 1893-10-17                       | 1821                             | Edward Keurvels & Henry Fontaine | De Vrijschutter                  | Carl Maria von Weber             | False                            | False                            | 1893-1894                        | N                                | German                           | 0                                | 1                                |\n",
       "\n"
      ],
      "text/plain": [
       "  ï.. Date       Original.premiere Directors                       \n",
       "1 0   1893-10-03 1821              Edward Keurvels & Henry Fontaine\n",
       "2 1   1893-10-05 1971              Edward Keurvels & Henry Fontaine\n",
       "3 2   1893-10-10 1821              Edward Keurvels & Henry Fontaine\n",
       "4 3   1893-10-12 1971              Edward Keurvels & Henry Fontaine\n",
       "5 4   1893-11-16 ?                 Edward Keurvels & Henry Fontaine\n",
       "6 5   1893-10-17 1821              Edward Keurvels & Henry Fontaine\n",
       "  Normalised.title Composer             Multiple.bill Multiple.bill.1 Season   \n",
       "1 De Vrijschutter  Carl Maria von Weber False         False           1893-1894\n",
       "2 Willem Tell      Carl Reinecke        False         False           1893-1894\n",
       "3 De Vrijschutter  Carl Maria von Weber False         False           1893-1894\n",
       "4 Willem Tell      Carl Reinecke        False         False           1893-1894\n",
       "5 Charlotte Corday Peter Benoit         False         False           1893-1894\n",
       "6 De Vrijschutter  Carl Maria von Weber False         False           1893-1894\n",
       "  Occasion Language Dutch German\n",
       "1 N        German   0     1     \n",
       "2 N        German   0     1     \n",
       "3 N        German   0     1     \n",
       "4 N        German   0     1     \n",
       "5 N        Dutch    1     0     \n",
       "6 N        German   0     1     "
      ]
     },
     "metadata": {},
     "output_type": "display_data"
    }
   ],
   "source": [
    "#Two new binary columns whether a production is Dutch (True/False) or German (True/False)\n",
    "df$Dutch <- as.integer(as.logical(df$Dutch))\n",
    "df$German <- as.integer(as.logical(df$German))\n",
    "\n",
    "\n",
    "head(df)"
   ]
  },
  {
   "cell_type": "code",
   "execution_count": 5,
   "metadata": {
    "vscode": {
     "languageId": "r"
    }
   },
   "outputs": [],
   "source": [
    "#Make sure that columns are interpreted as (ordered) factors\n",
    "\n",
    "df$Season <- factor(df$Season, ordered = TRUE)\n",
    "df$Date <- as.factor(df$Date)\n",
    "df$Composer <- as.factor(df$Composer)\n",
    "df$Normalised.title <- as.factor(df$Normalised.title)\n",
    "df$Original.premiere <- as.factor(df$Original.premiere)\n",
    "df$Multiple.bill <- as.factor(df$Multiple.bill) \n",
    "df$Occasion <- as.factor(df$Occasion)\n",
    "df$Dutch <- as.factor(df$Dutch)\n",
    "df$German <- as.factor(df$German)\n",
    "df$Language <- as.factor(df$Language)\n",
    "df$Directors <- as.factor(df$Directors)\n",
    "df$Directors <- factor(df$Directors, ordered = TRUE)"
   ]
  },
  {
   "cell_type": "code",
   "execution_count": 6,
   "metadata": {
    "vscode": {
     "languageId": "r"
    }
   },
   "outputs": [
    {
     "name": "stdout",
     "output_type": "stream",
     "text": [
      "'data.frame':\t4441 obs. of  13 variables:\n",
      " $ ï..              : int  0 1 2 3 4 5 6 7 8 9 ...\n",
      " $ Date             : Factor w/ 3383 levels \"01/01/1901\",\"01/01/1907\",..: 1771 1772 1773 1774 1784 1775 1776 1777 1778 1779 ...\n",
      " $ Original.premiere: Factor w/ 108 levels \"\",\"?\",\"1608\",..: 18 106 18 106 2 18 2 18 2 18 ...\n",
      " $ Directors        : Ord.factor w/ 7 levels \"Edward Keurvels & Henry Fontaine\"<..: 1 1 1 1 1 1 1 1 1 1 ...\n",
      " $ Normalised.title : Factor w/ 328 levels \"'T Minnebrugje\",..: 111 320 111 320 23 111 23 111 23 111 ...\n",
      " $ Composer         : Factor w/ 193 levels \"\",\"?\",\"Adolph L'Arronge\",..: 36 38 36 38 162 36 162 36 162 36 ...\n",
      " $ Multiple.bill    : Factor w/ 2 levels \"False\",\"True\": 1 1 1 1 1 1 1 1 1 1 ...\n",
      " $ Multiple.bill.1  : Factor w/ 2 levels \"False\",\"True\": 1 1 1 1 1 1 1 1 1 1 ...\n",
      " $ Season           : Ord.factor w/ 38 levels \"1893-1894\"<\"1894-1895\"<..: 1 1 1 1 1 1 1 1 1 1 ...\n",
      " $ Occasion         : Factor w/ 3 levels \"G\",\"N\",\"P\": 2 2 2 2 2 2 2 2 2 2 ...\n",
      " $ Language         : Factor w/ 3 levels \"Dutch\",\"German\",..: 2 2 2 2 1 2 1 2 1 2 ...\n",
      " $ Dutch            : Factor w/ 2 levels \"0\",\"1\": 1 1 1 1 2 1 2 1 2 1 ...\n",
      " $ German           : Factor w/ 2 levels \"0\",\"1\": 2 2 2 2 1 2 1 2 1 2 ...\n"
     ]
    }
   ],
   "source": [
    "str(df)\n",
    "#check if all columns are formatted correctly"
   ]
  },
  {
   "cell_type": "code",
   "execution_count": 7,
   "metadata": {
    "vscode": {
     "languageId": "r"
    }
   },
   "outputs": [
    {
     "name": "stderr",
     "output_type": "stream",
     "text": [
      "Warning message:\n",
      "\"glm.fit: fitted probabilities numerically 0 or 1 occurred\"Warning message:\n",
      "\"glm.fit: fitted probabilities numerically 0 or 1 occurred\"Warning message:\n",
      "\"glm.fit: fitted probabilities numerically 0 or 1 occurred\"Warning message:\n",
      "\"glm.fit: fitted probabilities numerically 0 or 1 occurred\""
     ]
    },
    {
     "data": {
      "text/html": [
       "<table>\n",
       "<thead><tr><th></th><th scope=col>Df</th><th scope=col>Deviance</th><th scope=col>AIC</th></tr></thead>\n",
       "<tbody>\n",
       "\t<tr><th scope=row>&lt;none&gt;</th><td> NA     </td><td>1328.251</td><td>1634.251</td></tr>\n",
       "\t<tr><th scope=row>Season</th><td> 36     </td><td>1499.401</td><td>1733.401</td></tr>\n",
       "\t<tr><th scope=row>Occasion</th><td>  2     </td><td>1354.262</td><td>1656.262</td></tr>\n",
       "\t<tr><th scope=row>Directors</th><td>  5     </td><td>1333.608</td><td>1629.608</td></tr>\n",
       "\t<tr><th scope=row>Multiple.bill</th><td>  1     </td><td>1334.433</td><td>1638.433</td></tr>\n",
       "\t<tr><th scope=row>Original.premiere</th><td>107     </td><td>3711.397</td><td>3803.397</td></tr>\n",
       "</tbody>\n",
       "</table>\n"
      ],
      "text/latex": [
       "\\begin{tabular}{r|lll}\n",
       "  & Df & Deviance & AIC\\\\\n",
       "\\hline\n",
       "\t<none> &  NA      & 1328.251 & 1634.251\\\\\n",
       "\tSeason &  36      & 1499.401 & 1733.401\\\\\n",
       "\tOccasion &   2      & 1354.262 & 1656.262\\\\\n",
       "\tDirectors &   5      & 1333.608 & 1629.608\\\\\n",
       "\tMultiple.bill &   1      & 1334.433 & 1638.433\\\\\n",
       "\tOriginal.premiere & 107      & 3711.397 & 3803.397\\\\\n",
       "\\end{tabular}\n"
      ],
      "text/markdown": [
       "\n",
       "| <!--/--> | Df | Deviance | AIC |\n",
       "|---|---|---|---|\n",
       "| <none> |  NA      | 1328.251 | 1634.251 |\n",
       "| Season |  36      | 1499.401 | 1733.401 |\n",
       "| Occasion |   2      | 1354.262 | 1656.262 |\n",
       "| Directors |   5      | 1333.608 | 1629.608 |\n",
       "| Multiple.bill |   1      | 1334.433 | 1638.433 |\n",
       "| Original.premiere | 107      | 3711.397 | 3803.397 |\n",
       "\n"
      ],
      "text/plain": [
       "                  Df  Deviance AIC     \n",
       "<none>             NA 1328.251 1634.251\n",
       "Season             36 1499.401 1733.401\n",
       "Occasion            2 1354.262 1656.262\n",
       "Directors           5 1333.608 1629.608\n",
       "Multiple.bill       1 1334.433 1638.433\n",
       "Original.premiere 107 3711.397 3803.397"
      ]
     },
     "metadata": {},
     "output_type": "display_data"
    }
   ],
   "source": [
    "m1 <- glm(Dutch ~ Season + Occasion + Directors + Multiple.bill + Original.premiere, data = df, family = binomial)\n",
    "drop1(m1)\n",
    "\n",
    "#Directors does not improve the model.\n",
    "#Warning message caused by original premiere since premiers of Original Dutch works nearly always correspond to the season, \n",
    "#since most original dutch works had their premiere AT the Antwerp Opera.\n",
    "#Same goes for Directors. It is directly related to the season and therefore too much "
   ]
  },
  {
   "cell_type": "code",
   "execution_count": 10,
   "metadata": {
    "vscode": {
     "languageId": "r"
    }
   },
   "outputs": [
    {
     "data": {
      "image/png": "[encoded data removed]",
      "text/plain": [
       "plot without title"
      ]
     },
     "metadata": {},
     "output_type": "display_data"
    }
   ],
   "source": [
    "model_NL <- glm(Dutch ~Occasion + Multiple.bill + Season, data = df, family = binomial)\n",
    "#new model containing only the relevant predictors\n",
    "\n",
    "plot(effect(\"Season\", model_NL), \n",
    "     symbols = list(pch = 1, cex = 0.8), \n",
    "     lines = list(lty = 1, lwd = c(2, 1)), \n",
    "     axes = list(x = list(rotate = 90)), main = 'Effect of multiple bill on occurence of Dutch performance')"
   ]
  },
  {
   "cell_type": "code",
   "execution_count": 11,
   "metadata": {
    "vscode": {
     "languageId": "r"
    }
   },
   "outputs": [
    {
     "name": "stderr",
     "output_type": "stream",
     "text": [
      "Warning message:\n",
      "\"glm.fit: fitted probabilities numerically 0 or 1 occurred\"Warning message:\n",
      "\"glm.fit: fitted probabilities numerically 0 or 1 occurred\"Warning message:\n",
      "\"glm.fit: fitted probabilities numerically 0 or 1 occurred\"Warning message:\n",
      "\"glm.fit: fitted probabilities numerically 0 or 1 occurred\""
     ]
    },
    {
     "data": {
      "text/html": [
       "<table>\n",
       "<thead><tr><th></th><th scope=col>Df</th><th scope=col>Deviance</th><th scope=col>AIC</th></tr></thead>\n",
       "<tbody>\n",
       "\t<tr><th scope=row>&lt;none&gt;</th><td> NA     </td><td>1778.828</td><td>2084.828</td></tr>\n",
       "\t<tr><th scope=row>Season</th><td> 36     </td><td>2071.880</td><td>2305.880</td></tr>\n",
       "\t<tr><th scope=row>Occasion</th><td>  2     </td><td>1786.140</td><td>2088.140</td></tr>\n",
       "\t<tr><th scope=row>Multiple.bill</th><td>  1     </td><td>1800.182</td><td>2104.182</td></tr>\n",
       "\t<tr><th scope=row>Directors</th><td>  5     </td><td>1780.439</td><td>2076.439</td></tr>\n",
       "\t<tr><th scope=row>Original.premiere</th><td>107     </td><td>5506.328</td><td>5598.328</td></tr>\n",
       "</tbody>\n",
       "</table>\n"
      ],
      "text/latex": [
       "\\begin{tabular}{r|lll}\n",
       "  & Df & Deviance & AIC\\\\\n",
       "\\hline\n",
       "\t<none> &  NA      & 1778.828 & 2084.828\\\\\n",
       "\tSeason &  36      & 2071.880 & 2305.880\\\\\n",
       "\tOccasion &   2      & 1786.140 & 2088.140\\\\\n",
       "\tMultiple.bill &   1      & 1800.182 & 2104.182\\\\\n",
       "\tDirectors &   5      & 1780.439 & 2076.439\\\\\n",
       "\tOriginal.premiere & 107      & 5506.328 & 5598.328\\\\\n",
       "\\end{tabular}\n"
      ],
      "text/markdown": [
       "\n",
       "| <!--/--> | Df | Deviance | AIC |\n",
       "|---|---|---|---|\n",
       "| <none> |  NA      | 1778.828 | 2084.828 |\n",
       "| Season |  36      | 2071.880 | 2305.880 |\n",
       "| Occasion |   2      | 1786.140 | 2088.140 |\n",
       "| Multiple.bill |   1      | 1800.182 | 2104.182 |\n",
       "| Directors |   5      | 1780.439 | 2076.439 |\n",
       "| Original.premiere | 107      | 5506.328 | 5598.328 |\n",
       "\n"
      ],
      "text/plain": [
       "                  Df  Deviance AIC     \n",
       "<none>             NA 1778.828 2084.828\n",
       "Season             36 2071.880 2305.880\n",
       "Occasion            2 1786.140 2088.140\n",
       "Multiple.bill       1 1800.182 2104.182\n",
       "Directors           5 1780.439 2076.439\n",
       "Original.premiere 107 5506.328 5598.328"
      ]
     },
     "metadata": {},
     "output_type": "display_data"
    }
   ],
   "source": [
    "#we do the same for German\n",
    "m2 <- glm(German ~ Season + Occasion + Multiple.bill + Directors + Original.premiere, data = df, family = binomial)\n",
    "drop1(m2)"
   ]
  },
  {
   "cell_type": "code",
   "execution_count": 17,
   "metadata": {
    "vscode": {
     "languageId": "r"
    }
   },
   "outputs": [
    {
     "data": {
      "image/png": "[encoded data removed]",
      "text/plain": [
       "plot without title"
      ]
     },
     "metadata": {},
     "output_type": "display_data"
    }
   ],
   "source": [
    "model_GER <- glm(German ~ Season + Multiple.bill + Occasion, data = df, family = binomial)\n",
    "\n",
    "plot(effect(\"Occasion\", model_GER), \n",
    "     symbols = list(pch = 1, cex = 0.8), \n",
    "     lines = list(lty = 1, lwd = c(2, 1)), \n",
    "     axes = list(x = list(rotate = 90)), main = 'Effect of multiple bill on occurence of German performance')\n"
   ]
  },
  {
   "attachments": {},
   "cell_type": "markdown",
   "metadata": {},
   "source": [
    "## What happens when we delete Wagner from the dataset?"
   ]
  },
  {
   "cell_type": "code",
   "execution_count": 13,
   "metadata": {
    "vscode": {
     "languageId": "r"
    }
   },
   "outputs": [
    {
     "name": "stdout",
     "output_type": "stream",
     "text": [
      "[1] 4441\n",
      "[1] 3744\n"
     ]
    }
   ],
   "source": [
    "#remove all rows that contain Wagner in the 'Composer column'\n",
    "df2 <- df[!grepl(\"Wagner\", df$Composer), ]\n",
    "print(nrow(df))\n",
    "print(nrow(df2))"
   ]
  },
  {
   "cell_type": "code",
   "execution_count": 14,
   "metadata": {
    "vscode": {
     "languageId": "r"
    }
   },
   "outputs": [
    {
     "ename": "ERROR",
     "evalue": "Error in `$<-.data.frame`(`*tmp*`, Collection, value = structure(integer(0), .Label = character(0), class = c(\"ordered\", : replacement has 0 rows, data has 3744\n",
     "output_type": "error",
     "traceback": [
      "Error in `$<-.data.frame`(`*tmp*`, Collection, value = structure(integer(0), .Label = character(0), class = c(\"ordered\", : replacement has 0 rows, data has 3744\nTraceback:\n",
      "1. `$<-`(`*tmp*`, Collection, value = structure(integer(0), .Label = character(0), class = c(\"ordered\", \n . \"factor\")))",
      "2. `$<-.data.frame`(`*tmp*`, Collection, value = structure(integer(0), .Label = character(0), class = c(\"ordered\", \n . \"factor\")))",
      "3. stop(sprintf(ngettext(N, \"replacement has %d row, data has %d\", \n .     \"replacement has %d rows, data has %d\"), N, nrows), domain = NA)"
     ]
    }
   ],
   "source": [
    "#Make sure that columns are interpreted as factors\n",
    "\n",
    "df2$Collection <- factor(df2$Collection, ordered = TRUE)\n",
    "df2$Season <- factor(df2$Season, ordered = TRUE)\n",
    "df2$Date <- as.factor(df2$Date)\n",
    "df2$Composer <- as.factor(df2$Composer)\n",
    "df2$Normalised.title <- as.factor(df2$Normalised.title)\n",
    "df2$Original.premiere <- as.factor(df2$Original.premiere)\n",
    "df2$Occasion <- as.factor(df2$Occasion)\n",
    "df2$Dutch <- as.factor(df2$Dutch)\n",
    "df2$German <- as.factor(df2$German)\n",
    "df2$Language <- as.factor(df2$Language)\n",
    "#df2$Directors <- factor(df2$Directors)\n",
    "\n",
    "tail(df2)"
   ]
  },
  {
   "cell_type": "code",
   "execution_count": 15,
   "metadata": {
    "vscode": {
     "languageId": "r"
    }
   },
   "outputs": [
    {
     "data": {
      "image/png": "[encoded data removed]",
      "text/plain": [
       "plot without title"
      ]
     },
     "metadata": {},
     "output_type": "display_data"
    }
   ],
   "source": [
    "nowag <- glm(German ~ Season, data = df2, family = binomial)\n",
    "\n",
    "\n",
    "plot(effect(\"Season\", nowag),\n",
    "     symbols = list(pch = 1, cex = 0.8), \n",
    "     lines = list(lty = 1, lwd = c(2, 1)), \n",
    "     axes = list(x = list(rotate = 90)), main = 'Effect of Season on occurence of German performances, discounting Wagner')"
   ]
  },
  {
   "cell_type": "code",
   "execution_count": 20,
   "metadata": {
    "vscode": {
     "languageId": "r"
    }
   },
   "outputs": [
    {
     "data": {
      "text/html": [
       "<table>\n",
       "<thead><tr><th></th><th scope=col>Df</th><th scope=col>Deviance</th><th scope=col>AIC</th></tr></thead>\n",
       "<tbody>\n",
       "\t<tr><th scope=row>&lt;none&gt;</th><td>NA      </td><td>4446.470</td><td>4528.470</td></tr>\n",
       "\t<tr><th scope=row>Season</th><td>37      </td><td>4800.449</td><td>4808.449</td></tr>\n",
       "\t<tr><th scope=row>Occasion</th><td> 2      </td><td>4458.368</td><td>4536.368</td></tr>\n",
       "\t<tr><th scope=row>Multiple.bill</th><td> 1      </td><td>4529.482</td><td>4609.482</td></tr>\n",
       "</tbody>\n",
       "</table>\n"
      ],
      "text/latex": [
       "\\begin{tabular}{r|lll}\n",
       "  & Df & Deviance & AIC\\\\\n",
       "\\hline\n",
       "\t<none> & NA       & 4446.470 & 4528.470\\\\\n",
       "\tSeason & 37       & 4800.449 & 4808.449\\\\\n",
       "\tOccasion &  2       & 4458.368 & 4536.368\\\\\n",
       "\tMultiple.bill &  1       & 4529.482 & 4609.482\\\\\n",
       "\\end{tabular}\n"
      ],
      "text/markdown": [
       "\n",
       "| <!--/--> | Df | Deviance | AIC |\n",
       "|---|---|---|---|\n",
       "| <none> | NA       | 4446.470 | 4528.470 |\n",
       "| Season | 37       | 4800.449 | 4808.449 |\n",
       "| Occasion |  2       | 4458.368 | 4536.368 |\n",
       "| Multiple.bill |  1       | 4529.482 | 4609.482 |\n",
       "\n"
      ],
      "text/plain": [
       "              Df Deviance AIC     \n",
       "<none>        NA 4446.470 4528.470\n",
       "Season        37 4800.449 4808.449\n",
       "Occasion       2 4458.368 4536.368\n",
       "Multiple.bill  1 4529.482 4609.482"
      ]
     },
     "metadata": {},
     "output_type": "display_data"
    }
   ],
   "source": [
    "model_Ger_nowag <- glm(German ~Season + Occasion + Multiple.bill, data = df2, family = binomial)\n",
    "drop1(model_Ger_nowag)\n",
    "\n",
    "#Occasion is no longer a significant predictor when removing Wagner.\n",
    "model_Ger_nowag <- glm(German ~Season + Multiple.bill, data = df2, family = binomial)"
   ]
  },
  {
   "cell_type": "code",
   "execution_count": 23,
   "metadata": {
    "vscode": {
     "languageId": "r"
    }
   },
   "outputs": [
    {
     "data": {
      "image/png": "[encoded data removed]",
      "text/plain": [
       "plot without title"
      ]
     },
     "metadata": {},
     "output_type": "display_data"
    }
   ],
   "source": [
    "\n",
    "plot(effect(\"Season\", model_Ger_nowag), \n",
    "     symbols = list(pch = 1, cex = 0.8), \n",
    "     lines = list(lty = 1, lwd = c(2, 1)), \n",
    "     axes = list(x = list(rotate = 90)), main = 'Effect of season on occurence of German performances (no Wagner)')"
   ]
  },
  {
   "cell_type": "code",
   "execution_count": null,
   "metadata": {
    "vscode": {
     "languageId": "r"
    }
   },
   "outputs": [],
   "source": []
  }
 ],
 "metadata": {
  "kernelspec": {
   "display_name": "R",
   "language": "R",
   "name": "ir"
  },
  "language_info": {
   "codemirror_mode": "r",
   "file_extension": ".r",
   "mimetype": "text/x-r-source",
   "name": "R",
   "pygments_lexer": "r",
   "version": "3.6.1"
  },
  "orig_nbformat": 4
 },
 "nbformat": 4,
 "nbformat_minor": 2
}
