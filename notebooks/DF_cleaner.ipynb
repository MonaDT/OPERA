{
 "cells": [
  {
   "attachments": {},
   "cell_type": "markdown",
   "id": "ea717f91",
   "metadata": {},
   "source": [
    "# DF Cleaner\n",
    "\n",
    "## Data cleaning"
   ]
  },
  {
   "cell_type": "code",
   "execution_count": 26,
   "id": "42a94d3d",
   "metadata": {},
   "outputs": [
    {
     "data": {
      "text/html": [
       "<div>\n",
       "<style scoped>\n",
       "    .dataframe tbody tr th:only-of-type {\n",
       "        vertical-align: middle;\n",
       "    }\n",
       "\n",
       "    .dataframe tbody tr th {\n",
       "        vertical-align: top;\n",
       "    }\n",
       "\n",
       "    .dataframe thead th {\n",
       "        text-align: right;\n",
       "    }\n",
       "</style>\n",
       "<table border=\"1\" class=\"dataframe\">\n",
       "  <thead>\n",
       "    <tr style=\"text-align: right;\">\n",
       "      <th></th>\n",
       "      <th>Image</th>\n",
       "      <th>Collection</th>\n",
       "      <th>Production</th>\n",
       "      <th>Date</th>\n",
       "      <th>Occasion</th>\n",
       "    </tr>\n",
       "  </thead>\n",
       "  <tbody>\n",
       "    <tr>\n",
       "      <th>0</th>\n",
       "      <td>K.V.O. programmas 1893-97_00001-20211201_11330...</td>\n",
       "      <td>1893-1897</td>\n",
       "      <td>NaN</td>\n",
       "      <td>NaN</td>\n",
       "      <td>NaN</td>\n",
       "    </tr>\n",
       "    <tr>\n",
       "      <th>1</th>\n",
       "      <td>K.V.O. programmas 1893-97_00002-20211201_11332...</td>\n",
       "      <td>1893-1897</td>\n",
       "      <td>NaN</td>\n",
       "      <td>NaN</td>\n",
       "      <td>NaN</td>\n",
       "    </tr>\n",
       "    <tr>\n",
       "      <th>2</th>\n",
       "      <td>K.V.O. programmas 1893-97_00003-20211201_11333...</td>\n",
       "      <td>1893-1897</td>\n",
       "      <td>NaN</td>\n",
       "      <td>NaN</td>\n",
       "      <td>NaN</td>\n",
       "    </tr>\n",
       "    <tr>\n",
       "      <th>3</th>\n",
       "      <td>K.V.O. programmas 1893-97_00004-20211201_11334...</td>\n",
       "      <td>1893-1897</td>\n",
       "      <td>NaN</td>\n",
       "      <td>NaN</td>\n",
       "      <td>NaN</td>\n",
       "    </tr>\n",
       "    <tr>\n",
       "      <th>4</th>\n",
       "      <td>K.V.O. programmas 1893-97_00005-20211201_11335...</td>\n",
       "      <td>1893-1897</td>\n",
       "      <td>De Vrijschutter</td>\n",
       "      <td>3/10/1893</td>\n",
       "      <td>Eerste vertoning</td>\n",
       "    </tr>\n",
       "  </tbody>\n",
       "</table>\n",
       "</div>"
      ],
      "text/plain": [
       "                                               Image Collection  \\\n",
       "0  K.V.O. programmas 1893-97_00001-20211201_11330...  1893-1897   \n",
       "1  K.V.O. programmas 1893-97_00002-20211201_11332...  1893-1897   \n",
       "2  K.V.O. programmas 1893-97_00003-20211201_11333...  1893-1897   \n",
       "3  K.V.O. programmas 1893-97_00004-20211201_11334...  1893-1897   \n",
       "4  K.V.O. programmas 1893-97_00005-20211201_11335...  1893-1897   \n",
       "\n",
       "        Production       Date          Occasion  \n",
       "0              NaN        NaN               NaN  \n",
       "1              NaN        NaN               NaN  \n",
       "2              NaN        NaN               NaN  \n",
       "3              NaN        NaN               NaN  \n",
       "4  De Vrijschutter  3/10/1893  Eerste vertoning  "
      ]
     },
     "execution_count": 26,
     "metadata": {},
     "output_type": "execute_result"
    }
   ],
   "source": [
    "import pandas as pd\n",
    "\n",
    "df = pd.read_csv(\"../Materials/Metadata_OBV_gesplitst_test.csv\")\n",
    "df.head()"
   ]
  },
  {
   "cell_type": "code",
   "execution_count": 27,
   "id": "23bd8100",
   "metadata": {},
   "outputs": [],
   "source": [
    "#Delete trailing and leading whitespaces.\n",
    "df['Image'] = df['Image'].str.strip() \n",
    "df['Collection'] = df['Collection'].str.strip() \n",
    "df['Production'] = df['Production'].str.strip() \n",
    "df['Occasion'] = df['Occasion'].str.strip() \n"
   ]
  },
  {
   "cell_type": "code",
   "execution_count": 28,
   "id": "3bee619b",
   "metadata": {},
   "outputs": [
    {
     "data": {
      "text/plain": [
       "False    10466\n",
       "True       526\n",
       "Name: Multiple bill, dtype: int64"
      ]
     },
     "execution_count": 28,
     "metadata": {},
     "output_type": "execute_result"
    }
   ],
   "source": [
    "#New boolean column, which indicates whether the performance was part of a multiple bill (True) or not (False).\n",
    "\n",
    "multiple_bills = []\n",
    "for row in df['Production']:\n",
    "    if '+' in str(row):\n",
    "        multiple_bills.append(True)\n",
    "    else:\n",
    "        multiple_bills.append(False)\n",
    "\n",
    "\n",
    "df['Multiple bill'] = multiple_bills\n",
    "df['Multiple bill'].value_counts()"
   ]
  },
  {
   "cell_type": "code",
   "execution_count": 29,
   "id": "4c1d8e7c",
   "metadata": {},
   "outputs": [],
   "source": [
    "#New column with a random ID voor each performance.\n",
    "\n",
    "import random\n",
    "df['Performances_ID'] = random.sample(range(100000, 999999), df.shape[0])\n"
   ]
  },
  {
   "cell_type": "code",
   "execution_count": 30,
   "id": "93146f0e",
   "metadata": {},
   "outputs": [
    {
     "data": {
      "text/html": [
       "<div>\n",
       "<style scoped>\n",
       "    .dataframe tbody tr th:only-of-type {\n",
       "        vertical-align: middle;\n",
       "    }\n",
       "\n",
       "    .dataframe tbody tr th {\n",
       "        vertical-align: top;\n",
       "    }\n",
       "\n",
       "    .dataframe thead th {\n",
       "        text-align: right;\n",
       "    }\n",
       "</style>\n",
       "<table border=\"1\" class=\"dataframe\">\n",
       "  <thead>\n",
       "    <tr style=\"text-align: right;\">\n",
       "      <th></th>\n",
       "      <th>Image</th>\n",
       "      <th>Collection</th>\n",
       "      <th>Production</th>\n",
       "      <th>Date</th>\n",
       "      <th>Occasion</th>\n",
       "      <th>Multiple bill</th>\n",
       "      <th>Performances_ID</th>\n",
       "    </tr>\n",
       "  </thead>\n",
       "  <tbody>\n",
       "    <tr>\n",
       "      <th>1128</th>\n",
       "      <td>1901-1902 Nederlandsch Lyrisch Tooneel Program...</td>\n",
       "      <td>1901-1902</td>\n",
       "      <td>NaN</td>\n",
       "      <td>NaN</td>\n",
       "      <td>NaN</td>\n",
       "      <td>False</td>\n",
       "      <td>224692</td>\n",
       "    </tr>\n",
       "    <tr>\n",
       "      <th>10650</th>\n",
       "      <td>1931-1932_00100-20220210_113334.jpg</td>\n",
       "      <td>1931-1932</td>\n",
       "      <td>NaN</td>\n",
       "      <td>NaN</td>\n",
       "      <td>NaN</td>\n",
       "      <td>False</td>\n",
       "      <td>592103</td>\n",
       "    </tr>\n",
       "    <tr>\n",
       "      <th>3047</th>\n",
       "      <td>1909-1910 Vlaamse Opera_00087-20211216_151602.jpg</td>\n",
       "      <td>1909-1910</td>\n",
       "      <td>Siegfried</td>\n",
       "      <td>29/10/1909</td>\n",
       "      <td>gala, volgens de nota van Verbruggen vond deze...</td>\n",
       "      <td>False</td>\n",
       "      <td>969859</td>\n",
       "    </tr>\n",
       "    <tr>\n",
       "      <th>4275</th>\n",
       "      <td>1918-1919_00119-20220207_100200.jpg</td>\n",
       "      <td>1918-1919</td>\n",
       "      <td>NaN</td>\n",
       "      <td>NaN</td>\n",
       "      <td>NaN</td>\n",
       "      <td>False</td>\n",
       "      <td>709960</td>\n",
       "    </tr>\n",
       "    <tr>\n",
       "      <th>5259</th>\n",
       "      <td>1923-1924_00222-20220207_153517.jpg</td>\n",
       "      <td>1923-1924</td>\n",
       "      <td>NaN</td>\n",
       "      <td>NaN</td>\n",
       "      <td>NaN</td>\n",
       "      <td>False</td>\n",
       "      <td>304733</td>\n",
       "    </tr>\n",
       "  </tbody>\n",
       "</table>\n",
       "</div>"
      ],
      "text/plain": [
       "                                                   Image Collection  \\\n",
       "1128   1901-1902 Nederlandsch Lyrisch Tooneel Program...  1901-1902   \n",
       "10650                1931-1932_00100-20220210_113334.jpg  1931-1932   \n",
       "3047   1909-1910 Vlaamse Opera_00087-20211216_151602.jpg  1909-1910   \n",
       "4275                 1918-1919_00119-20220207_100200.jpg  1918-1919   \n",
       "5259                 1923-1924_00222-20220207_153517.jpg  1923-1924   \n",
       "\n",
       "      Production        Date  \\\n",
       "1128         NaN         NaN   \n",
       "10650        NaN         NaN   \n",
       "3047   Siegfried  29/10/1909   \n",
       "4275         NaN         NaN   \n",
       "5259         NaN         NaN   \n",
       "\n",
       "                                                Occasion  Multiple bill  \\\n",
       "1128                                                 NaN          False   \n",
       "10650                                                NaN          False   \n",
       "3047   gala, volgens de nota van Verbruggen vond deze...          False   \n",
       "4275                                                 NaN          False   \n",
       "5259                                                 NaN          False   \n",
       "\n",
       "       Performances_ID  \n",
       "1128            224692  \n",
       "10650           592103  \n",
       "3047            969859  \n",
       "4275            709960  \n",
       "5259            304733  "
      ]
     },
     "execution_count": 30,
     "metadata": {},
     "output_type": "execute_result"
    }
   ],
   "source": [
    "# Cells that include a '+' , i.e. a multiple bill are split so that each row only contains one work.\n",
    "# Through the Performance_ID we can keep track of those performances that were performed as a multiple bill.\n",
    "\n",
    "df = df.assign(Production=df.Production.str.split(\"+\")).explode('Production')\n",
    "df = df.reset_index(drop=True)\n",
    "df.sample(5)"
   ]
  },
  {
   "attachments": {},
   "cell_type": "markdown",
   "id": "f8952123",
   "metadata": {},
   "source": [
    "## Normalise spelling"
   ]
  },
  {
   "cell_type": "code",
   "execution_count": 31,
   "id": "24d7cd35",
   "metadata": {},
   "outputs": [],
   "source": [
    "#Establish dictionary in I keep track of spelling variations.\n",
    "VariatieC = {\n",
    "\"Het Minnebrugje\" : \"T' Minnebrugje Het Minnebrugsken Het minnebrugje Minnebrugje\",\n",
    "\"Het Arendsnest\" : \"Arendsnest\",\n",
    "\"Bohème\" : \"Boheme\",\n",
    "\"De Bruid der Zee\" : \"Bruid der Zee\",\n",
    "\"Het Kind\" : \"Das Kind\",\n",
    "\"Czaar en Timmerman\" : \"Csaar en Timmerman\",\n",
    "\"De Verzonken Klok\" : \"De Verzonkene Klok\",\n",
    "\"De Bedelstudent\" : \"De Arme student\",\n",
    "\"De Doode Oogen\" : \"De Dode Ogen\",\n",
    "\"De Doode Stad\" : \"De Dode Stad\",\n",
    "\"De Koningin van Saba\" : \"De Koningin van Saaba\",\n",
    "\"De Lustige Boer\" : \"De Lustige Broeder Lustige Boer\",\n",
    "\"De Lustige Oorlog\" : \"De Vrolijke Oorlog\",\n",
    "\"De Lustige Vrouwtjes van Windsor\" : \"The Merry Wives of Windsor De Vrolijke Vrouwtjes van Windsor Lustige Vrouwtjes van Windsor\",\n",
    "\"De Meesterzangers van Nurenberg\" : \"De Meesterzanger De Meesterzangers De Meesterzangers van Nuremberg De Meesterzangers van Nürnberg\", \n",
    "\"De Tooverfluit\" : \"Tooverfluit Tooverfluit\",\n",
    "\"De Tragedie van Salomé\" : \"De tragedie van Salomé\",\n",
    "\"De Twee Medaillons\" : \"De Tweede Medaillons\",\n",
    "\"De Vestale\" : \"Vestale\",\n",
    "\"De Vrijschutter\" : \"Vrijschutter\",\n",
    "\"De Walkure\" : \"De Walküre La Walkyrie Die Walkure\",\n",
    "\"De Zeven Hoofdzonden\" : \"de Zeven Hoofdzonden\",\n",
    "\"De Drie Houten Poppen\" : \"De drie Houten Poppen\",\n",
    "\"De Evangelieman\" : \"Die Evangelieman\",\n",
    "\"Don Juan\" : \"Don Giovanni\",\n",
    "\"De Draaimolen\" : \"Draaimolen\",\n",
    "\"Driemeisjeshuis\" : \"Het Driemeisjeshuis\",\n",
    "\"Een Nacht te Grenada\" : \"Eeen Nacht te Grenada\",\n",
    "\"Ein Walzertraum\" : \"Walzertaum\",\n",
    "\"Hansje en Grietje\" : \"Hans en Grietje\",\n",
    "\"Herbergprinses\" : \"Herbergrprinses Herberprinses\",\n",
    "\"Het Rijngoud\" : \"Rijngoud\",\n",
    "\"Het Rozemarijntje\" : \"Rosemarijntje Rozemarijntje\",\n",
    "\"Winternachtsdroom\" : \"Het Winternachtsdroom\",\n",
    "\"Zeevolk\" : \"Het Zeevolk\",\n",
    "\"Hoffmann's Vertellingenen\" : \"Hoffmann's Vertellingen\",\n",
    "\"Jean-Marie\" : \"Jose Maria Jean Marie Marie José\",\n",
    "\"Jozef in Egypte\" : \"Josef in Egypte\",\n",
    "\"De Kinderen der Zee\": \"Kinderen der Zee\",\n",
    "\"Liefdetoover\" : \"Liefde Toover\",\n",
    "\"Marieke van Nijmegem\" : \"Marieke van Nijmegen Marike van Nymegem\",\n",
    "\"Orpheus' Dood\" : \"Orpheus's Dood\",\n",
    "\"Paljas\" : \"Pagliacci\",\n",
    "\"Parisina\" : 'Parsina',\n",
    "\"Quinten Massijs\" : \"Quinten Massys Quinten Metsys Quinten-Massijs Quinten-Massys\",\n",
    "\"Reeks van Oud-Grieksche Dansen\" : \"Reeks van Oud-Griekscge Dansen\",\n",
    "\"Reinaert de Vos\" : \"Reinart de Vos\",\n",
    "\"De Rijndwergen\": \"Rijndwergen\",\n",
    "\"Tannhauser\" : \"Tannhäuser\",\n",
    "\"Theroigne de Mericout\" : \"Theroigne De Mericourt Theroigne de Mericoux Théroigne de Méricourt Théroigne de Méricout\",\n",
    "\"Toespraak van den Heer Dr. Maurits Sabbe, conservator van het Museum Plantijn\" : \"Toespraal van den Heer Dr. Maurits Sabbe, conservator van het Museum Plantijn\",\n",
    "\"Tweede Dansenreeks\" : \"Tweede dansreeks\",\n",
    "\"Zwaargewicht\" : \"Zwaargewicht ( of De eer van't Land)\"\n",
    "}"
   ]
  },
  {
   "cell_type": "code",
   "execution_count": 32,
   "id": "cc7e0a04",
   "metadata": {},
   "outputs": [],
   "source": [
    "#create functions that iterates over the items in the dictionary and returns the key if the title is in the values.\n",
    "#if it is not in the values, there was not spelling variation for this title and the title is returned.\n",
    "def clean_titles (row):\n",
    "\n",
    "    for key, values in VariatieC.items():\n",
    "        if str(row) in str(values):\n",
    "            #print('it is in the values')\n",
    "            return key\n",
    "        elif row == key:\n",
    "            return key\n",
    "    else:\n",
    "        return row\n",
    "    "
   ]
  },
  {
   "cell_type": "code",
   "execution_count": 33,
   "id": "48663cef",
   "metadata": {},
   "outputs": [
    {
     "name": "stdout",
     "output_type": "stream",
     "text": [
      "Quinten Massijs\n",
      "Tannhauser\n",
      "Madame Butterfly\n"
     ]
    }
   ],
   "source": [
    "#Test it on some variations.\n",
    "\n",
    "a = 'Quinten Metsys'\n",
    "b = \"Tannhäuser\"\n",
    "c = 'Madame Butterfly'\n",
    "\n",
    "print(clean_titles(a))\n",
    "print(clean_titles(b))\n",
    "print(clean_titles(c))\n"
   ]
  },
  {
   "cell_type": "code",
   "execution_count": 34,
   "id": "2a79935e",
   "metadata": {},
   "outputs": [],
   "source": [
    "#Function is now applied to the entire dataset. The normalised spelling is gathered in a new column called 'Genormaliseerde titel'.\n",
    "df['Normalised title'] = df['Production'].apply(clean_titles)\n"
   ]
  },
  {
   "cell_type": "code",
   "execution_count": 35,
   "id": "f002fd2f",
   "metadata": {},
   "outputs": [],
   "source": [
    "#delete all leading and trailing whitespaces.\n",
    "for column in df.columns:\n",
    "    try:\n",
    "        df[column] = df[column].str.strip()\n",
    "    except AttributeError:\n",
    "        continue"
   ]
  },
  {
   "attachments": {},
   "cell_type": "markdown",
   "id": "4806b0f9",
   "metadata": {},
   "source": [
    "## Add metadata"
   ]
  },
  {
   "attachments": {},
   "cell_type": "markdown",
   "id": "f96fa8b9",
   "metadata": {},
   "source": [
    "Load dictionary-formatted txt-file containing additional metadata.\n",
    "- key = normalised title\n",
    "- value [0] = original title\n",
    "- value [1] = composer\n",
    "- value [2] = year of first performance\n",
    "- value [3] = original title\n",
    "- value [4] = genre (not used in the thesis)\n"
   ]
  },
  {
   "cell_type": "code",
   "execution_count": 36,
   "id": "28d6105c",
   "metadata": {},
   "outputs": [],
   "source": [
    "with open('C:/Users/monaa/Dropbox/Thesis/secundair/META.txt','r', encoding = 'UTF8') as inf:\n",
    "    Metadata = eval(inf.read())\n",
    "\n",
    "#load the metadata"
   ]
  },
  {
   "cell_type": "code",
   "execution_count": 37,
   "id": "3fb94576",
   "metadata": {},
   "outputs": [
    {
     "name": "stdout",
     "output_type": "stream",
     "text": [
      "Looking good!\n"
     ]
    }
   ],
   "source": [
    "#Check if the txt-file is formatted correctly\n",
    "output = []\n",
    "for key, values in Metadata.items():\n",
    "    if len(values) != 5:\n",
    "       output.append(values)\n",
    "       print(output)\n",
    "\n",
    "if len(output) == 0:\n",
    "    print('Looking good!')"
   ]
  },
  {
   "cell_type": "code",
   "execution_count": 38,
   "id": "f24ea659",
   "metadata": {},
   "outputs": [
    {
     "name": "stdout",
     "output_type": "stream",
     "text": [
      "ITA\n",
      "DUI\n",
      "NL\n"
     ]
    }
   ],
   "source": [
    "#Define a function that identifies the original lanagage based on the metadata.\n",
    "\n",
    "def add_taal (row):\n",
    "    for key, values in Metadata.items():\n",
    "        if row == key:\n",
    "            return values[0]\n",
    "    else:\n",
    "        return 'N/A'\n",
    "\n",
    "#try it out.\n",
    "\n",
    "a = \"Madame Butterfly\"\n",
    "b = \"Tannhauser\"\n",
    "c = \"Quinten Massijs\"\n",
    "\n",
    "print(add_taal(a))\n",
    "print(add_taal(b))\n",
    "print(add_taal(c))\n"
   ]
  },
  {
   "cell_type": "code",
   "execution_count": 39,
   "id": "f9eb1c23",
   "metadata": {},
   "outputs": [
    {
     "name": "stdout",
     "output_type": "stream",
     "text": [
      "Giacomo Puccini\n",
      "Richard Wagner\n",
      "Emile Wambach\n"
     ]
    }
   ],
   "source": [
    "#Define a function that identifies the composer based on the metadata.\n",
    "\n",
    "def add_composer (row):\n",
    "    for key, values in Metadata.items():\n",
    "        if row == key:\n",
    "            return values[1]\n",
    "    else:\n",
    "        return 'N/A'\n",
    "    \n",
    "#try it out.\n",
    "\n",
    "print(add_composer(a))\n",
    "print(add_composer(b))\n",
    "print(add_composer(c))\n"
   ]
  },
  {
   "cell_type": "code",
   "execution_count": 40,
   "id": "56caf190",
   "metadata": {},
   "outputs": [
    {
     "name": "stdout",
     "output_type": "stream",
     "text": [
      "1904\n",
      "1845\n",
      "1899\n"
     ]
    }
   ],
   "source": [
    "#Define a function that identifies the year of the first performance based on the metadata.\n",
    "\n",
    "def add_premiere (row):\n",
    "    for key, values in Metadata.items():\n",
    "        if row == key:\n",
    "            return values[2]\n",
    "    else:\n",
    "        return 'N/A'\n",
    "\n",
    "print(add_premiere(a))\n",
    "print(add_premiere(b))\n",
    "print(add_premiere(c))\n"
   ]
  },
  {
   "cell_type": "code",
   "execution_count": 41,
   "id": "b805a14a",
   "metadata": {},
   "outputs": [
    {
     "name": "stdout",
     "output_type": "stream",
     "text": [
      "Madama Butterfly\n",
      "Tannhäuser\n",
      "Quinten Massys\n"
     ]
    }
   ],
   "source": [
    "#Define a function that identifies the year of the original title based on the metadata.\n",
    "\n",
    "def add_oortitel (row):\n",
    "    for key, values in Metadata.items():\n",
    "        if row == key:\n",
    "            return values[3]\n",
    "    else:\n",
    "        return 'N/A'\n",
    "\n",
    "\n",
    "print(add_oortitel(a))\n",
    "print(add_oortitel(b))\n",
    "print(add_oortitel(c))"
   ]
  },
  {
   "cell_type": "code",
   "execution_count": 42,
   "id": "7b41dfac",
   "metadata": {},
   "outputs": [
    {
     "name": "stdout",
     "output_type": "stream",
     "text": [
      "opera seria\n",
      "romantische oper\n",
      "lyrisch drama\n"
     ]
    }
   ],
   "source": [
    "#Define a function that identifies the year of the genre based on the metadata.\n",
    "\n",
    "def add_genre (row):\n",
    "    for key, values in Metadata.items():\n",
    "        if row == key:\n",
    "            return values[4].lower()\n",
    "    else:\n",
    "        return 'N/A'\n",
    "\n",
    "\n",
    "print(add_genre(a))\n",
    "print(add_genre(b))\n",
    "print(add_genre(c))"
   ]
  },
  {
   "cell_type": "code",
   "execution_count": 43,
   "id": "59036f7b",
   "metadata": {},
   "outputs": [
    {
     "data": {
      "text/html": [
       "<div>\n",
       "<style scoped>\n",
       "    .dataframe tbody tr th:only-of-type {\n",
       "        vertical-align: middle;\n",
       "    }\n",
       "\n",
       "    .dataframe tbody tr th {\n",
       "        vertical-align: top;\n",
       "    }\n",
       "\n",
       "    .dataframe thead th {\n",
       "        text-align: right;\n",
       "    }\n",
       "</style>\n",
       "<table border=\"1\" class=\"dataframe\">\n",
       "  <thead>\n",
       "    <tr style=\"text-align: right;\">\n",
       "      <th></th>\n",
       "      <th>Image</th>\n",
       "      <th>Collection</th>\n",
       "      <th>Production</th>\n",
       "      <th>Date</th>\n",
       "      <th>Occasion</th>\n",
       "      <th>Multiple bill</th>\n",
       "      <th>Performances_ID</th>\n",
       "      <th>Normalised title</th>\n",
       "      <th>Original language</th>\n",
       "      <th>Composer</th>\n",
       "      <th>Original premiere</th>\n",
       "      <th>Original title</th>\n",
       "      <th>genre</th>\n",
       "    </tr>\n",
       "  </thead>\n",
       "  <tbody>\n",
       "    <tr>\n",
       "      <th>3976</th>\n",
       "      <td>1913-1914 Vlaamse Opera_00102-20211216_170125.jpg</td>\n",
       "      <td>1913-1914</td>\n",
       "      <td>NaN</td>\n",
       "      <td>NaN</td>\n",
       "      <td>NaN</td>\n",
       "      <td>False</td>\n",
       "      <td>311028</td>\n",
       "      <td>NaN</td>\n",
       "      <td>N/A</td>\n",
       "      <td>N/A</td>\n",
       "      <td>N/A</td>\n",
       "      <td>N/A</td>\n",
       "      <td>N/A</td>\n",
       "    </tr>\n",
       "    <tr>\n",
       "      <th>6993</th>\n",
       "      <td>1926-1927_00529-20220208_113047.jpg</td>\n",
       "      <td>1926-1927</td>\n",
       "      <td>Tristan en Isolde</td>\n",
       "      <td>26/04/1927</td>\n",
       "      <td>gala</td>\n",
       "      <td>False</td>\n",
       "      <td>125551</td>\n",
       "      <td>Tristan en Isolde</td>\n",
       "      <td>DUI</td>\n",
       "      <td>Richard Wagner</td>\n",
       "      <td>1860</td>\n",
       "      <td>Tristan und Isolde</td>\n",
       "      <td>gesamtkunstwerk</td>\n",
       "    </tr>\n",
       "    <tr>\n",
       "      <th>2194</th>\n",
       "      <td>Nederlandsch Lyrisch Tooneel 1906-1907_00150-2...</td>\n",
       "      <td>1906-1907</td>\n",
       "      <td>NaN</td>\n",
       "      <td>NaN</td>\n",
       "      <td>NaN</td>\n",
       "      <td>False</td>\n",
       "      <td>551380</td>\n",
       "      <td>NaN</td>\n",
       "      <td>N/A</td>\n",
       "      <td>N/A</td>\n",
       "      <td>N/A</td>\n",
       "      <td>N/A</td>\n",
       "      <td>N/A</td>\n",
       "    </tr>\n",
       "    <tr>\n",
       "      <th>7826</th>\n",
       "      <td>1927-1928_00763-20220208_144632.jpg</td>\n",
       "      <td>1927-1928</td>\n",
       "      <td>Fidelio</td>\n",
       "      <td>14/04/1928</td>\n",
       "      <td>NaN</td>\n",
       "      <td>False</td>\n",
       "      <td>823853</td>\n",
       "      <td>Fidelio</td>\n",
       "      <td>DUI</td>\n",
       "      <td>Ludwig van Beethoven</td>\n",
       "      <td>1805</td>\n",
       "      <td>Fidelio</td>\n",
       "      <td>rettungsoper</td>\n",
       "    </tr>\n",
       "    <tr>\n",
       "      <th>6081</th>\n",
       "      <td>1925-1926_00036-20220208_092217.jpg</td>\n",
       "      <td>1925-1926</td>\n",
       "      <td>De Tooverfluit</td>\n",
       "      <td>04/10/1925</td>\n",
       "      <td>NaN</td>\n",
       "      <td>False</td>\n",
       "      <td>586426</td>\n",
       "      <td>De Tooverfluit</td>\n",
       "      <td>DUI</td>\n",
       "      <td>Wolfgang Amadeus Mozart</td>\n",
       "      <td>1791</td>\n",
       "      <td>Die Zauberflöte</td>\n",
       "      <td>zangspel</td>\n",
       "    </tr>\n",
       "  </tbody>\n",
       "</table>\n",
       "</div>"
      ],
      "text/plain": [
       "                                                  Image Collection  \\\n",
       "3976  1913-1914 Vlaamse Opera_00102-20211216_170125.jpg  1913-1914   \n",
       "6993                1926-1927_00529-20220208_113047.jpg  1926-1927   \n",
       "2194  Nederlandsch Lyrisch Tooneel 1906-1907_00150-2...  1906-1907   \n",
       "7826                1927-1928_00763-20220208_144632.jpg  1927-1928   \n",
       "6081                1925-1926_00036-20220208_092217.jpg  1925-1926   \n",
       "\n",
       "             Production        Date Occasion  Multiple bill  Performances_ID  \\\n",
       "3976                NaN         NaN      NaN          False           311028   \n",
       "6993  Tristan en Isolde  26/04/1927     gala          False           125551   \n",
       "2194                NaN         NaN      NaN          False           551380   \n",
       "7826            Fidelio  14/04/1928      NaN          False           823853   \n",
       "6081     De Tooverfluit  04/10/1925      NaN          False           586426   \n",
       "\n",
       "       Normalised title Original language                 Composer  \\\n",
       "3976                NaN               N/A                      N/A   \n",
       "6993  Tristan en Isolde               DUI           Richard Wagner   \n",
       "2194                NaN               N/A                      N/A   \n",
       "7826            Fidelio               DUI     Ludwig van Beethoven   \n",
       "6081     De Tooverfluit               DUI  Wolfgang Amadeus Mozart   \n",
       "\n",
       "     Original premiere      Original title            genre  \n",
       "3976               N/A                 N/A              N/A  \n",
       "6993              1860  Tristan und Isolde  gesamtkunstwerk  \n",
       "2194               N/A                 N/A              N/A  \n",
       "7826              1805             Fidelio     rettungsoper  \n",
       "6081              1791     Die Zauberflöte         zangspel  "
      ]
     },
     "execution_count": 43,
     "metadata": {},
     "output_type": "execute_result"
    }
   ],
   "source": [
    "#add the metadata as new columns in the dataframe.\n",
    "\n",
    "df['Original language'] = df['Normalised title'].apply(add_taal)\n",
    "df['Composer'] = df['Normalised title'].apply(add_composer)\n",
    "df['Original premiere'] = df['Normalised title'].apply(add_premiere)\n",
    "df['Original title'] = df['Normalised title'].apply(add_oortitel)\n",
    "df['genre'] = df['Normalised title'].apply(add_genre)\n",
    "df.sample(5)\n"
   ]
  },
  {
   "attachments": {},
   "cell_type": "markdown",
   "id": "763fe937",
   "metadata": {},
   "source": [
    "## Additional preprocessing"
   ]
  },
  {
   "cell_type": "code",
   "execution_count": 44,
   "id": "d46f7422",
   "metadata": {},
   "outputs": [],
   "source": [
    "#Convert the Date column to datetime\n",
    "\n",
    "df['Date'] = pd.to_datetime(df['Date'], dayfirst=True, errors='coerce')\n"
   ]
  },
  {
   "cell_type": "code",
   "execution_count": 48,
   "id": "ff74ef4c",
   "metadata": {},
   "outputs": [],
   "source": [
    "\n",
    "# Obtain the season. An operatic season runs (approximately) from september to May\n",
    "def get_season(date):\n",
    "    year = date.year\n",
    "    if date.month >= 9:\n",
    "        return f\"{year}-{year+1}\"\n",
    "    else:\n",
    "        return f\"{year-1}-{year}\"\n",
    "\n",
    "\n",
    "df['Season'] = df['Date'].apply(get_season)\n",
    "\n"
   ]
  },
  {
   "cell_type": "code",
   "execution_count": 54,
   "id": "482ff7f6",
   "metadata": {},
   "outputs": [
    {
     "name": "stdout",
     "output_type": "stream",
     "text": [
      "6267 of 11600 records removed\n"
     ]
    }
   ],
   "source": [
    "#Remove irrelevant pages, i.e. pages where both the production and the date of performance are missing\n",
    "\n",
    "old_len = len(df)\n",
    "df2 = df.dropna(subset=['Production','Date'])\n",
    "print(f'{old_len - len(df2)} of {old_len} records removed')\n",
    "\n"
   ]
  },
  {
   "cell_type": "code",
   "execution_count": 55,
   "id": "c7cfc487",
   "metadata": {},
   "outputs": [
    {
     "name": "stdout",
     "output_type": "stream",
     "text": [
      "892 of 5333 records removed! 4441 records remain\n"
     ]
    }
   ],
   "source": [
    "#Remove duplicate, i.e. cases in which the production and date are the same.\n",
    "\n",
    "all_dups = len(df2)\n",
    "df2 = df2.drop_duplicates(subset=['Production', 'Date'])\n",
    "print(f'{all_dups - len(df2)} of {all_dups} records removed! {len(df2)} records remain')\n"
   ]
  },
  {
   "cell_type": "code",
   "execution_count": 57,
   "id": "b484ca9f",
   "metadata": {},
   "outputs": [
    {
     "data": {
      "image/png": "[encoded data removed]",
      "text/plain": [
       "<Figure size 640x480 with 1 Axes>"
      ]
     },
     "metadata": {},
     "output_type": "display_data"
    }
   ],
   "source": [
    "import matplotlib.pyplot as plt\n",
    "\n",
    "fig, ax = plt.subplots()\n",
    "\n",
    "counts1 = df['Collection'].value_counts()[df2['Collection'].unique()].sort_index()\n",
    "counts2 = df2['Collection'].value_counts().sort_index()\n",
    "\n",
    "counts2.loc['1914-1915'] = 0\n",
    "counts2.loc['1915-1916'] = 0\n",
    "counts2.loc['1916-1917'] = 0\n",
    "counts2.loc['1917-1918'] = 0\n",
    "counts2.loc['1919-1920'] = 0\n",
    "\n",
    "counts2 = counts2.sort_index()\n",
    "x2 = counts2.index\n",
    "y2 = counts2.values\n",
    "\n",
    "# Sorting the index to ensure correct order of data points in the bar plot\n",
    "counts1.loc['1914-1915'] = 0\n",
    "counts1.loc['1915-1916'] = 0\n",
    "counts1.loc['1916-1917'] = 0\n",
    "counts1.loc['1917-1918'] = 0\n",
    "counts1.loc['1919-1920'] = 0\n",
    "\n",
    "counts1 = counts1.sort_index()\n",
    "\n",
    "# Generate x and y data for the bar plot\n",
    "x = counts1.index\n",
    "y = counts1.values\n",
    "\n",
    "# Plotting the bar plots\n",
    "ax.bar(x, y, color='palevioletred', label='No. of images before preprocessing')\n",
    "ax.bar(x2, y2, color='slategrey', label='No. of performances after preprocessing')\n",
    "\n",
    "# Adding ticks and labels to the x-axis\n",
    "ax.set_xticks(range(len(x)))\n",
    "ax.set_xticklabels(x, rotation=-90)\n",
    "\n",
    "# Adding labels and title\n",
    "ax.set_xlabel('Season')\n",
    "ax.set_ylabel('Count')\n",
    "ax.set_title('Collections before and after preprocessing')\n",
    "\n",
    "# Display the bar plots\n",
    "plt.legend()\n",
    "plt.show()\n"
   ]
  },
  {
   "cell_type": "code",
   "execution_count": null,
   "id": "d80a242a",
   "metadata": {},
   "outputs": [],
   "source": [
    "#df wordt opgeslagen.\n",
    "#df2.to_csv('../Materials/KVO_META.csv', encoding = 'utf-8')"
   ]
  },
  {
   "cell_type": "code",
   "execution_count": null,
   "id": "7ff2aba9",
   "metadata": {},
   "outputs": [],
   "source": []
  }
 ],
 "metadata": {
  "kernelspec": {
   "display_name": "Python 3.9.13 ('base')",
   "language": "python",
   "name": "python3"
  },
  "language_info": {
   "codemirror_mode": {
    "name": "ipython",
    "version": 3
   },
   "file_extension": ".py",
   "mimetype": "text/x-python",
   "name": "python",
   "nbconvert_exporter": "python",
   "pygments_lexer": "ipython3",
   "version": "3.11.2"
  },
  "vscode": {
   "interpreter": {
    "hash": "96e0a4d32f1918f770291244863a4a1e044b05d1a3b8d455e2e179187e01062a"
   }
  }
 },
 "nbformat": 4,
 "nbformat_minor": 5
}
