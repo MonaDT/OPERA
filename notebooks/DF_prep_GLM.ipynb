{
 "cells": [
  {
   "attachments": {},
   "cell_type": "markdown",
   "metadata": {},
   "source": [
    "# Preliminary Data exploration"
   ]
  },
  {
   "attachments": {},
   "cell_type": "markdown",
   "metadata": {},
   "source": [
    "In this notebook I remove and add columns in order to prepare the data for the general linear model."
   ]
  },
  {
   "attachments": {},
   "cell_type": "markdown",
   "metadata": {},
   "source": [
    "Import dataset with all metadata and preprocessing."
   ]
  },
  {
   "cell_type": "code",
   "execution_count": 2,
   "metadata": {},
   "outputs": [],
   "source": [
    "import pandas as pd\n",
    "\n",
    "df = pd.read_csv(\"../Materials/KVO_META.csv\", encoding='latin-1', index_col=False)\n"
   ]
  },
  {
   "cell_type": "code",
   "execution_count": 3,
   "metadata": {},
   "outputs": [],
   "source": [
    "#remove trailin and leading whitespaces.\n",
    "for column in df.columns:\n",
    "    try:\n",
    "        df[column] = df[column].str.strip()\n",
    "    except AttributeError:\n",
    "        continue"
   ]
  },
  {
   "cell_type": "code",
   "execution_count": 39,
   "metadata": {},
   "outputs": [
    {
     "data": {
      "text/html": [
       "<div>\n",
       "<style scoped>\n",
       "    .dataframe tbody tr th:only-of-type {\n",
       "        vertical-align: middle;\n",
       "    }\n",
       "\n",
       "    .dataframe tbody tr th {\n",
       "        vertical-align: top;\n",
       "    }\n",
       "\n",
       "    .dataframe thead th {\n",
       "        text-align: right;\n",
       "    }\n",
       "</style>\n",
       "<table border=\"1\" class=\"dataframe\">\n",
       "  <thead>\n",
       "    <tr style=\"text-align: right;\">\n",
       "      <th></th>\n",
       "      <th>Date</th>\n",
       "      <th>Original premiere</th>\n",
       "      <th>Directors</th>\n",
       "      <th>Normalised title</th>\n",
       "      <th>Composer</th>\n",
       "      <th>Occasion</th>\n",
       "      <th>Original language</th>\n",
       "      <th>Multiple bill</th>\n",
       "      <th>Multiple bill</th>\n",
       "      <th>Season</th>\n",
       "    </tr>\n",
       "  </thead>\n",
       "  <tbody>\n",
       "    <tr>\n",
       "      <th>15</th>\n",
       "      <td>1893-11-23</td>\n",
       "      <td>1821</td>\n",
       "      <td>Edward Keurvels &amp; Henry Fontaine</td>\n",
       "      <td>Preciosa</td>\n",
       "      <td>Carl Maria von Weber</td>\n",
       "      <td>NaN</td>\n",
       "      <td>DUI</td>\n",
       "      <td>False</td>\n",
       "      <td>False</td>\n",
       "      <td>1893-1894</td>\n",
       "    </tr>\n",
       "    <tr>\n",
       "      <th>3221</th>\n",
       "      <td>01/01/1928</td>\n",
       "      <td>1905</td>\n",
       "      <td>Fé Derickx &amp; Bernard Tokkie</td>\n",
       "      <td>SalomÃ©</td>\n",
       "      <td>Richard Strauss</td>\n",
       "      <td>NaN</td>\n",
       "      <td>DUI</td>\n",
       "      <td>True</td>\n",
       "      <td>True</td>\n",
       "      <td>1927-1928</td>\n",
       "    </tr>\n",
       "    <tr>\n",
       "      <th>1235</th>\n",
       "      <td>13/01/1909</td>\n",
       "      <td>1874</td>\n",
       "      <td>Jef Judels &amp; Bernard Tokkie</td>\n",
       "      <td>De Walkure</td>\n",
       "      <td>Richard Wagner</td>\n",
       "      <td>feestavond ten voordele van den nationale belg...</td>\n",
       "      <td>DUI</td>\n",
       "      <td>False</td>\n",
       "      <td>False</td>\n",
       "      <td>1908-1909</td>\n",
       "    </tr>\n",
       "    <tr>\n",
       "      <th>1498</th>\n",
       "      <td>31/01/1911</td>\n",
       "      <td>1894</td>\n",
       "      <td>Henry Fontaine</td>\n",
       "      <td>Cleopatra</td>\n",
       "      <td>August Enna</td>\n",
       "      <td>NaN</td>\n",
       "      <td>DEE</td>\n",
       "      <td>False</td>\n",
       "      <td>False</td>\n",
       "      <td>1910-1911</td>\n",
       "    </tr>\n",
       "    <tr>\n",
       "      <th>38</th>\n",
       "      <td>1894-02-23</td>\n",
       "      <td>?</td>\n",
       "      <td>Edward Keurvels &amp; Henry Fontaine</td>\n",
       "      <td>Mellusina</td>\n",
       "      <td>Emiel Wambach</td>\n",
       "      <td>eerste vertoning</td>\n",
       "      <td>NL</td>\n",
       "      <td>False</td>\n",
       "      <td>False</td>\n",
       "      <td>1893-1894</td>\n",
       "    </tr>\n",
       "  </tbody>\n",
       "</table>\n",
       "</div>"
      ],
      "text/plain": [
       "            Date Original premiere                         Directors  \\\n",
       "15    1893-11-23              1821  Edward Keurvels & Henry Fontaine   \n",
       "3221  01/01/1928              1905       Fé Derickx & Bernard Tokkie   \n",
       "1235  13/01/1909              1874       Jef Judels & Bernard Tokkie   \n",
       "1498  31/01/1911              1894                    Henry Fontaine   \n",
       "38    1894-02-23                 ?  Edward Keurvels & Henry Fontaine   \n",
       "\n",
       "     Normalised title              Composer  \\\n",
       "15           Preciosa  Carl Maria von Weber   \n",
       "3221          SalomÃ©       Richard Strauss   \n",
       "1235       De Walkure        Richard Wagner   \n",
       "1498        Cleopatra           August Enna   \n",
       "38          Mellusina         Emiel Wambach   \n",
       "\n",
       "                                               Occasion Original language  \\\n",
       "15                                                  NaN               DUI   \n",
       "3221                                                NaN               DUI   \n",
       "1235  feestavond ten voordele van den nationale belg...               DUI   \n",
       "1498                                                NaN               DEE   \n",
       "38                                     eerste vertoning                NL   \n",
       "\n",
       "      Multiple bill  Multiple bill     Season  \n",
       "15            False          False  1893-1894  \n",
       "3221           True           True  1927-1928  \n",
       "1235          False          False  1908-1909  \n",
       "1498          False          False  1910-1911  \n",
       "38            False          False  1893-1894  "
      ]
     },
     "execution_count": 39,
     "metadata": {},
     "output_type": "execute_result"
    }
   ],
   "source": [
    "#Only keep the relevant columns\n",
    "df = df[['Date', 'Original premiere', 'Directors' ,'Normalised title', 'Composer', 'Occasion', 'Original language', 'Multiple bill', \"Season\"]]\n",
    "df.sample(5)"
   ]
  },
  {
   "cell_type": "code",
   "execution_count": 40,
   "metadata": {},
   "outputs": [
    {
     "data": {
      "text/plain": [
       "N    3940\n",
       "G     461\n",
       "P      40\n",
       "Name: OCC, dtype: int64"
      ]
     },
     "execution_count": 40,
     "metadata": {},
     "output_type": "execute_result"
    }
   ],
   "source": [
    "#Create a new column in which we keep track of: \n",
    "#   the Gala performances (G)\n",
    "#   the popular peformances (P)\n",
    "#   all others (N)\n",
    "\n",
    "df['Occasion'] = df['Occasion'].str.lower()\n",
    "df['OCC'] = df['Occasion'].astype(str).apply(lambda x: 'G' if 'gala' in x else 'P' if 'volk' in x.lower() else 'N')\n",
    "df['OCC'].value_counts()"
   ]
  },
  {
   "cell_type": "code",
   "execution_count": 42,
   "metadata": {},
   "outputs": [
    {
     "data": {
      "text/plain": [
       "German    1950\n",
       "other     1586\n",
       "Dutch      905\n",
       "Name: Language, dtype: int64"
      ]
     },
     "execution_count": 42,
     "metadata": {},
     "output_type": "execute_result"
    }
   ],
   "source": [
    "df['Language'] = df['Original language'].str.lower()\n",
    "df['Language'] = df['Original language'].astype(str).apply(lambda x: 'German' if 'DUI' in x else 'Dutch' if 'NL' in x else 'other')\n",
    "df['Language'].value_counts()"
   ]
  },
  {
   "cell_type": "code",
   "execution_count": 44,
   "metadata": {},
   "outputs": [
    {
     "name": "stdout",
     "output_type": "stream",
     "text": [
      "False    3536\n",
      "True      905\n",
      "Name: Dutch, dtype: int64\n",
      "False    2491\n",
      "True     1950\n",
      "Name: German, dtype: int64\n"
     ]
    }
   ],
   "source": [
    "#Create boolean column for original Dutch performances (True) and others (False)\n",
    "df['Dutch'] = df['Original language'].astype(str).apply(lambda x: 'True' if 'NL' in x else 'False')\n",
    "df['German'] = df['Original language'].astype(str).apply(lambda x: 'True' if 'DUI' in x else 'False')\n",
    "print(df['Dutch'].value_counts())\n",
    "print(df['German'].value_counts())"
   ]
  },
  {
   "cell_type": "code",
   "execution_count": 45,
   "metadata": {},
   "outputs": [
    {
     "data": {
      "text/html": [
       "<div>\n",
       "<style scoped>\n",
       "    .dataframe tbody tr th:only-of-type {\n",
       "        vertical-align: middle;\n",
       "    }\n",
       "\n",
       "    .dataframe tbody tr th {\n",
       "        vertical-align: top;\n",
       "    }\n",
       "\n",
       "    .dataframe thead th {\n",
       "        text-align: right;\n",
       "    }\n",
       "</style>\n",
       "<table border=\"1\" class=\"dataframe\">\n",
       "  <thead>\n",
       "    <tr style=\"text-align: right;\">\n",
       "      <th></th>\n",
       "      <th>Date</th>\n",
       "      <th>Original premiere</th>\n",
       "      <th>Directors</th>\n",
       "      <th>Normalised title</th>\n",
       "      <th>Composer</th>\n",
       "      <th>Multiple bill</th>\n",
       "      <th>Multiple bill</th>\n",
       "      <th>Season</th>\n",
       "      <th>Occasion</th>\n",
       "      <th>Language</th>\n",
       "      <th>Dutch</th>\n",
       "      <th>German</th>\n",
       "    </tr>\n",
       "  </thead>\n",
       "  <tbody>\n",
       "    <tr>\n",
       "      <th>0</th>\n",
       "      <td>1893-10-03</td>\n",
       "      <td>1821</td>\n",
       "      <td>Edward Keurvels &amp; Henry Fontaine</td>\n",
       "      <td>De Vrijschutter</td>\n",
       "      <td>Carl Maria von Weber</td>\n",
       "      <td>False</td>\n",
       "      <td>False</td>\n",
       "      <td>1893-1894</td>\n",
       "      <td>N</td>\n",
       "      <td>German</td>\n",
       "      <td>False</td>\n",
       "      <td>True</td>\n",
       "    </tr>\n",
       "    <tr>\n",
       "      <th>1</th>\n",
       "      <td>1893-10-05</td>\n",
       "      <td>1971</td>\n",
       "      <td>Edward Keurvels &amp; Henry Fontaine</td>\n",
       "      <td>Willem Tell</td>\n",
       "      <td>Carl Reinecke</td>\n",
       "      <td>False</td>\n",
       "      <td>False</td>\n",
       "      <td>1893-1894</td>\n",
       "      <td>N</td>\n",
       "      <td>German</td>\n",
       "      <td>False</td>\n",
       "      <td>True</td>\n",
       "    </tr>\n",
       "    <tr>\n",
       "      <th>2</th>\n",
       "      <td>1893-10-10</td>\n",
       "      <td>1821</td>\n",
       "      <td>Edward Keurvels &amp; Henry Fontaine</td>\n",
       "      <td>De Vrijschutter</td>\n",
       "      <td>Carl Maria von Weber</td>\n",
       "      <td>False</td>\n",
       "      <td>False</td>\n",
       "      <td>1893-1894</td>\n",
       "      <td>N</td>\n",
       "      <td>German</td>\n",
       "      <td>False</td>\n",
       "      <td>True</td>\n",
       "    </tr>\n",
       "    <tr>\n",
       "      <th>3</th>\n",
       "      <td>1893-10-12</td>\n",
       "      <td>1971</td>\n",
       "      <td>Edward Keurvels &amp; Henry Fontaine</td>\n",
       "      <td>Willem Tell</td>\n",
       "      <td>Carl Reinecke</td>\n",
       "      <td>False</td>\n",
       "      <td>False</td>\n",
       "      <td>1893-1894</td>\n",
       "      <td>N</td>\n",
       "      <td>German</td>\n",
       "      <td>False</td>\n",
       "      <td>True</td>\n",
       "    </tr>\n",
       "    <tr>\n",
       "      <th>4</th>\n",
       "      <td>1893-11-16</td>\n",
       "      <td>?</td>\n",
       "      <td>Edward Keurvels &amp; Henry Fontaine</td>\n",
       "      <td>Charlotte Corday</td>\n",
       "      <td>Peter Benoit</td>\n",
       "      <td>False</td>\n",
       "      <td>False</td>\n",
       "      <td>1893-1894</td>\n",
       "      <td>N</td>\n",
       "      <td>Dutch</td>\n",
       "      <td>True</td>\n",
       "      <td>False</td>\n",
       "    </tr>\n",
       "  </tbody>\n",
       "</table>\n",
       "</div>"
      ],
      "text/plain": [
       "         Date Original premiere                         Directors  \\\n",
       "0  1893-10-03              1821  Edward Keurvels & Henry Fontaine   \n",
       "1  1893-10-05              1971  Edward Keurvels & Henry Fontaine   \n",
       "2  1893-10-10              1821  Edward Keurvels & Henry Fontaine   \n",
       "3  1893-10-12              1971  Edward Keurvels & Henry Fontaine   \n",
       "4  1893-11-16                 ?  Edward Keurvels & Henry Fontaine   \n",
       "\n",
       "   Normalised title              Composer  Multiple bill  Multiple bill  \\\n",
       "0   De Vrijschutter  Carl Maria von Weber          False          False   \n",
       "1       Willem Tell         Carl Reinecke          False          False   \n",
       "2   De Vrijschutter  Carl Maria von Weber          False          False   \n",
       "3       Willem Tell         Carl Reinecke          False          False   \n",
       "4  Charlotte Corday          Peter Benoit          False          False   \n",
       "\n",
       "      Season Occasion Language  Dutch German  \n",
       "0  1893-1894        N   German  False   True  \n",
       "1  1893-1894        N   German  False   True  \n",
       "2  1893-1894        N   German  False   True  \n",
       "3  1893-1894        N   German  False   True  \n",
       "4  1893-1894        N    Dutch   True  False  "
      ]
     },
     "execution_count": 45,
     "metadata": {},
     "output_type": "execute_result"
    }
   ],
   "source": [
    "#Drop irrelevant columns, and rename occasion column.\n",
    "df.drop(['Occasion', 'Original language'], axis='columns', inplace=True)\n",
    "df.rename(columns={\"OCC\": \"Occasion\"}, inplace=True)\n",
    "df.head()"
   ]
  },
  {
   "cell_type": "code",
   "execution_count": null,
   "metadata": {},
   "outputs": [],
   "source": [
    "#df.to_csv('Binomial_prep.csv', encoding = 'utf-8-sig')"
   ]
  },
  {
   "cell_type": "code",
   "execution_count": null,
   "metadata": {},
   "outputs": [],
   "source": []
  }
 ],
 "metadata": {
  "kernelspec": {
   "display_name": "base",
   "language": "python",
   "name": "python3"
  },
  "language_info": {
   "codemirror_mode": {
    "name": "ipython",
    "version": 3
   },
   "file_extension": ".py",
   "mimetype": "text/x-python",
   "name": "python",
   "nbconvert_exporter": "python",
   "pygments_lexer": "ipython3",
   "version": "3.11.2"
  },
  "orig_nbformat": 4,
  "vscode": {
   "interpreter": {
    "hash": "96e0a4d32f1918f770291244863a4a1e044b05d1a3b8d455e2e179187e01062a"
   }
  }
 },
 "nbformat": 4,
 "nbformat_minor": 2
}
